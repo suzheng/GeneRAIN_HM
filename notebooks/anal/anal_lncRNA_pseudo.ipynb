{
 "cells": [
  {
   "attachments": {},
   "cell_type": "markdown",
   "id": "e986ebf8-8bb0-4f15-bab1-daed75d61cef",
   "metadata": {},
   "source": [
    "## This notebook examines results from the protein-coding+lncRNAs+pseudogenes model"
   ]
  },
  {
   "cell_type": "code",
   "execution_count": 1,
   "id": "1c1da8f2-1e03-416f-bdf4-f7cf0d5de61a",
   "metadata": {},
   "outputs": [
    {
     "name": "stdout",
     "output_type": "stream",
     "text": [
      "Using mouse project folder: /g/data/yr31/zs2131/tasks/2023/RNA_expr_net/GeneRAIN_Mouse\n",
      "Using mouse project folder: /g/data/yr31/zs2131/tasks/2023/RNA_expr_net/GeneRAIN_Mouse\n",
      "Run in training mode!\n",
      "param_json_file is /g/data/yr31/zs2131/tasks/2023/RNA_expr_net/anal_mouse/training/exp10/exp10_hm_GPT_coding_lncRNA_pseudo.param_config.json\n",
      "Parameter of params.SPECIFIED_PRETRAIN_MODEL_CHECKPOINT_PATH not found in the input json file, use default value of None!\n",
      "/g/data/yr31/zs2131/tasks/2023/RNA_expr_net/GeneRAIN_Mouse/results/models/pretrain/exp9/model.rank0.\n",
      "None\n"
     ]
    },
    {
     "name": "stderr",
     "output_type": "stream",
     "text": [
      "/home/561/zs2131/.local/lib/python3.11/site-packages/tqdm/auto.py:21: TqdmWarning: IProgress not found. Please update jupyter and ipywidgets. See https://ipywidgets.readthedocs.io/en/stable/user_install.html\n",
      "  from .autonotebook import tqdm as notebook_tqdm\n"
     ]
    },
    {
     "name": "stdout",
     "output_type": "stream",
     "text": [
      "Using mouse project folder: /g/data/yr31/zs2131/tasks/2023/RNA_expr_net/GeneRAIN_Mouse\n",
      "Using mouse project folder: /g/data/yr31/zs2131/tasks/2023/RNA_expr_net/GeneRAIN_Mouse\n",
      "Using mouse project folder: /g/data/yr31/zs2131/tasks/2023/RNA_expr_net/GeneRAIN_Mouse\n",
      "Using mouse project folder: /g/data/yr31/zs2131/tasks/2023/RNA_expr_net/GeneRAIN_Mouse\n",
      "Using mouse project folder: /g/data/yr31/zs2131/tasks/2023/RNA_expr_net/GeneRAIN_Mouse\n"
     ]
    }
   ],
   "source": [
    "import os\n",
    "\n",
    "os.environ['SPECIES'] = \"Mouse\"\n",
    "from eval.visual_utils import (get_naming_dict, filter_dataframe, FigureStyle, pval2stars, Naming_Json, export_to_excel)\n",
    "njson = Naming_Json()\n",
    "exp = njson.exp_hm_gpt_lncrna\n",
    "exp_short = exp.split(\"_\")[0]\n",
    "m_param_json_file = f\"/g/data/yr31/zs2131/tasks/2023/RNA_expr_net/anal_mouse/training/{exp_short}/{exp}.param_config.json\"\n",
    "os.environ['PARAM_JSON_FILE'] = m_param_json_file\n",
    "\n",
    "from utils.utils import get_device, get_model, get_config\n",
    "from train.common_params_funs import get_gene2idx\n",
    "from utils.params import params\n",
    "from eval.eval_utils import get_self_emb\n",
    "from sklearn.metrics.pairwise import cosine_similarity\n",
    "from eval_m.m_eval_utils import get_n_closest_tokens, reorder_symmetric_matrix, mean_and_std_of_arrays, find_rank_of_similarity, get_similarity, read_tsv_to_dict\n",
    "from eval_m.m_visual_utils import density_colored_scatter, plot_PCA, plot_histogram, plot_comparison_box, plot_custom_ecdf, plot_comparison_bar_with_ci\n",
    "from data_m.get_homolo_mg import get_homolo_mg\n",
    "from data_m.m_data_utils import split_human_mouse_emb_and_genes, split_dict, dict_to_file, write_string_to_file, save_matrix_and_ids, load_matrix_and_ids, list_of_dicts_to_dataframe\n",
    "from data_m.m_data_utils import read_gz_tsv, print_unique_values, df_cols_to_dict, query_genes, get_combined_dna_seq_conserv_df, add_anno_info, get_gene2type_dict\n",
    "from dna.dna_utils import file_to_dict\n",
    "import numpy as np\n",
    "from data.data_utils import output_emb\n",
    "from eval_m.muse_utils import load_muse_result, get_gene_to_ori_case_dict, get_muse_result_uid_dir\n",
    "import glob\n",
    "import pickle\n",
    "import pandas as pd\n",
    "import matplotlib.pyplot as plt\n",
    "import seaborn as sns\n",
    "from collections import Counter\n",
    "import matplotlib.pyplot as plt\n",
    "from pySankey.sankey import sankey  # Assuming you've installed pySankeya\n",
    "params = params()\n",
    "config = get_config()\n",
    "epoch =njson.epoch"
   ]
  },
  {
   "cell_type": "code",
   "execution_count": 2,
   "id": "4306565a-a192-4111-9754-31c09072f551",
   "metadata": {},
   "outputs": [],
   "source": [
    "gene2type_dict = get_gene2type_dict(config)"
   ]
  },
  {
   "cell_type": "code",
   "execution_count": 3,
   "id": "cfbf1d39-71a8-44b0-a67b-ef4946d7a8ec",
   "metadata": {},
   "outputs": [],
   "source": [
    "epoch =njson.epoch"
   ]
  },
  {
   "cell_type": "code",
   "execution_count": 4,
   "id": "c963a9e8-edfa-40db-aa81-511f75c4044a",
   "metadata": {},
   "outputs": [],
   "source": [
    "dir_without_uid = f\"{config.proj_path}/results/anal/{exp}/{exp}.epoch{epoch}.full_supervised/\"\n",
    "muse_result_uid_dir = get_muse_result_uid_dir(dir_without_uid)"
   ]
  },
  {
   "cell_type": "code",
   "execution_count": 5,
   "id": "42f9879a-79f0-4e07-9481-05dc3fccc684",
   "metadata": {},
   "outputs": [
    {
     "name": "stdout",
     "output_type": "stream",
     "text": [
      "Using mouse project folder: /g/data/yr31/zs2131/tasks/2023/RNA_expr_net/GeneRAIN_Mouse\n",
      "Reading gene_to_idx_path /g/data/yr31/zs2131/tasks/2023/RNA_expr_net/GeneRAIN_Mouse/data/embedding/hm_coding_lncRNA_pseudo_gene_to_idx.json!\n"
     ]
    }
   ],
   "source": [
    "gene2idx, idx2gene = get_gene2idx()"
   ]
  },
  {
   "cell_type": "code",
   "execution_count": 6,
   "id": "0404f86e-c2ea-4029-bef4-32d1eeb2e6ad",
   "metadata": {},
   "outputs": [],
   "source": [
    "gene_to_ori_case_dict = {gene.lower(): gene for gene in gene2idx.keys()}"
   ]
  },
  {
   "cell_type": "code",
   "execution_count": 7,
   "id": "c14a6385-286d-4ddb-9e1e-2f10e77ca342",
   "metadata": {},
   "outputs": [
    {
     "name": "stdout",
     "output_type": "stream",
     "text": [
      "Loaded emb from file_path!\n",
      "Loaded emb from file_path!\n"
     ]
    }
   ],
   "source": [
    "# Load MUSE supervised alignment result\n",
    "# hm_emb is human-mouse gene embedding matrix\n",
    "# hm_gene_names is a list of gene names\n",
    "# hm_token_types is a list of gene type (from human or mouse)\n",
    "hm_emb, hm_gene_names, hm_token_types = load_muse_result(muse_result_uid_dir, gene_to_ori_case_dict=gene_to_ori_case_dict)"
   ]
  },
  {
   "cell_type": "code",
   "execution_count": 8,
   "id": "93772d68-1691-4aab-8759-931813bfe679",
   "metadata": {},
   "outputs": [
    {
     "name": "stdout",
     "output_type": "stream",
     "text": [
      "Saved to /g/data/yr31/zs2131/tasks/2023/RNA_expr_net/GeneRAIN_Mouse///results/data_avail/Human_mouse_gene_embeddings_from_coding_lncRNA_pseudogene_model.txt\n"
     ]
    }
   ],
   "source": [
    "idx_of_non_special_emb = [i for i, gene in enumerate(hm_gene_names) if \"special_emb\" not in gene.lower()]\n",
    "hm_emb_non_special_emb = hm_emb[idx_of_non_special_emb]\n",
    "hm_gene_names_non_special_emb = np.array(hm_gene_names)[idx_of_non_special_emb]\n",
    "output_emb(\n",
    "    hm_gene_names_non_special_emb,\n",
    "    hm_emb_non_special_emb,\n",
    "    output_file_path=f\"{config.proj_path}//results/data_avail/Human_mouse_gene_embeddings_from_coding_lncRNA_pseudogene_model.txt\",\n",
    "    write_emb_dim_to_first_line=True,\n",
    ")"
   ]
  },
  {
   "cell_type": "code",
   "execution_count": 9,
   "id": "f69aeb21-a4da-474c-86e2-5ac1c0498746",
   "metadata": {},
   "outputs": [],
   "source": [
    "similarity_matrix = cosine_similarity(hm_emb)"
   ]
  },
  {
   "cell_type": "code",
   "execution_count": 10,
   "id": "a7a41234-39a8-49ab-8719-22d5be49dfad",
   "metadata": {},
   "outputs": [],
   "source": [
    "h2m_genes, m2h_genes, h2m_one2one, m2h_one2one = get_homolo_mg()"
   ]
  },
  {
   "cell_type": "code",
   "execution_count": 13,
   "id": "462dc62e-ef90-4f3c-b0c7-f230afb29241",
   "metadata": {},
   "outputs": [],
   "source": [
    "from collections import Counter\n",
    "\n",
    "np.unique([gene2type_dict.get(gene, \"NA\") for gene in gene2idx.keys()])\n",
    "human_counter = Counter([gene2type_dict.get(gene, \"NA\") for gene in gene2idx.keys() if config.gene_prefix not in gene])\n",
    "mouse_counter = Counter([gene2type_dict.get(gene, \"NA\") for gene in gene2idx.keys() if config.gene_prefix in gene])"
   ]
  },
  {
   "cell_type": "code",
   "execution_count": 21,
   "id": "60261d9f-449d-48be-aa9a-bcdb3bb57029",
   "metadata": {},
   "outputs": [
    {
     "name": "stdout",
     "output_type": "stream",
     "text": [
      "4956\n",
      "3599\n"
     ]
    }
   ],
   "source": [
    "def count_pseudogenes(counter_res):\n",
    "    sum = 0\n",
    "    for i, cnt in counter_res.items():\n",
    "        if \"pseudogene\" in i:\n",
    "            sum += cnt\n",
    "    return sum\n",
    "print(count_pseudogenes(human_counter))\n",
    "print(count_pseudogenes(mouse_counter))"
   ]
  },
  {
   "cell_type": "code",
   "execution_count": 12,
   "id": "35b1c31e-d2a7-4134-bb73-3c2c1d24804b",
   "metadata": {},
   "outputs": [
    {
     "name": "stdout",
     "output_type": "stream",
     "text": [
      "processing transcribed_unitary_pseudogene, 71 gene found!\n",
      "Closest tokens saved to /g/data/yr31/zs2131/tasks/2023/RNA_expr_net/GeneRAIN_Mouse//results/data_avail/closest_10.transcribed_unitary_pseudogenes.txt\n",
      "processing processed_pseudogene, 6123 gene found!\n",
      "Closest tokens saved to /g/data/yr31/zs2131/tasks/2023/RNA_expr_net/GeneRAIN_Mouse//results/data_avail/closest_10.processed_pseudogenes.txt\n",
      "processing protein_coding, 6456 gene found!\n",
      "Closest tokens saved to /g/data/yr31/zs2131/tasks/2023/RNA_expr_net/GeneRAIN_Mouse//results/anal/exp10_hm_GPT_coding_lncRNA_pseudo/exp10_hm_GPT_coding_lncRNA_pseudo.epoch40.full_supervised//closest_tokens.protein_coding.10_closest.txt\n",
      "processing lncRNA, 20030 gene found!\n",
      "Closest tokens saved to /g/data/yr31/zs2131/tasks/2023/RNA_expr_net/GeneRAIN_Mouse//results/data_avail/closest_10.lncRNAs.txt\n",
      "processing transcribed_unprocessed_pseudogene, 859 gene found!\n",
      "Closest tokens saved to /g/data/yr31/zs2131/tasks/2023/RNA_expr_net/GeneRAIN_Mouse//results/data_avail/closest_10.transcribed_unprocessed_pseudogenes.txt\n",
      "processing unprocessed_pseudogene, 730 gene found!\n",
      "Closest tokens saved to /g/data/yr31/zs2131/tasks/2023/RNA_expr_net/GeneRAIN_Mouse//results/data_avail/closest_10.unprocessed_pseudogenes.txt\n",
      "processing transcribed_processed_pseudogene, 557 gene found!\n",
      "Closest tokens saved to /g/data/yr31/zs2131/tasks/2023/RNA_expr_net/GeneRAIN_Mouse//results/data_avail/closest_10.transcribed_processed_pseudogenes.txt\n"
     ]
    }
   ],
   "source": [
    "def n_closest_tokens_to_gene_pair_to_best_simi(n_closest_tokens):\n",
    "    # Initialize dictionaries to store the best similarity scores for human-mouse (hm) and mouse-human (mh) gene pairs.\n",
    "    hm_to_best_simi = {}\n",
    "    mh_to_best_simi = {}\n",
    "    # Iterate over each row in the closest tokens DataFrame.\n",
    "    for index, row in n_closest_tokens.iterrows():\n",
    "        gene1 = row['Token_ID']  # Extract the first gene ID.\n",
    "        gene2 = row['Closest_1'].split(',')[0]  # Extract the closest gene ID from the first pair.\n",
    "        simi = float(row['Closest_1'].split(',')[1])  # Extract the similarity score of the closest pair.\n",
    "        # Assign the similarity score to the appropriate dictionary based on gene prefix.\n",
    "        if config.gene_prefix in gene1:\n",
    "            mh_to_best_simi[f\"{gene1} {gene2}\"] = simi\n",
    "        else:\n",
    "            hm_to_best_simi[f\"{gene1} {gene2}\"] = simi\n",
    "\n",
    "    # Return the dictionaries containing the best similarity scores for each gene pair type.\n",
    "    return hm_to_best_simi, mh_to_best_simi\n",
    "        \n",
    "# Initialize a dictionary to store similarity information for different gene types.\n",
    "close_simi_dict = {}\n",
    "# Iterate over a predefined list of gene types.\n",
    "for gene_type in [\"transcribed_unitary_pseudogene\", \"processed_pseudogene\", 'protein_coding', 'lncRNA', 'transcribed_unprocessed_pseudogene', 'unprocessed_pseudogene','transcribed_processed_pseudogene']:\n",
    "    \n",
    "    # Select indices of genes matching the current type that are not part of one-to-one ortholog mappings.\n",
    "    idx_selected = [i for i, gene in enumerate(hm_gene_names) if gene2type_dict.get(gene, \"NA\") == gene_type and gene not in h2m_one2one and gene.replace(config.gene_prefix, \"\") not in m2h_one2one]\n",
    "    \n",
    "    print(f\"processing {gene_type}, {len(idx_selected)} gene found!\")\n",
    "\n",
    "    # Select the portion of the similarity matrix corresponding to the selected indices.\n",
    "    similarity_matrix_selected = similarity_matrix[np.ix_(idx_selected, idx_selected)]\n",
    "    # Select gene names and token types for the selected indices.\n",
    "    hm_gene_names_selected = np.array(hm_gene_names)[idx_selected]\n",
    "    hm_token_types_selected = np.array(hm_token_types)[idx_selected]\n",
    "    # Assert that the dimensions of the selected similarity matrix and the lengths of selected names/types match.\n",
    "    assert similarity_matrix_selected.shape[0] == similarity_matrix_selected.shape[1] == len(hm_gene_names_selected) == len(hm_token_types_selected)\n",
    "    # Determine the output file path based on the gene type.\n",
    "    if gene_type == \"protein_coding\":\n",
    "        output_file = f\"{dir_without_uid}/closest_tokens.{gene_type}.{njson.n_closest}_closest.txt\"\n",
    "    else:\n",
    "        output_file = f\"{config.proj_path}/results/data_avail/closest_{njson.n_closest}.{gene_type}s.txt\"\n",
    "    # Generate and store the N closest tokens for the selected gene pairs.\n",
    "    n_closest_tokens = get_n_closest_tokens(similarity_matrix_selected,\n",
    "                                            hm_gene_names_selected,\n",
    "                                            hm_token_types_selected,\n",
    "                                            output_file=output_file,\n",
    "                                            n_closest=njson.n_closest)\n",
    "    \n",
    "\n",
    "    # Extract and store the best similarity scores for human-mouse and mouse-human gene pairs.\n",
    "    hm_to_best_simi, mh_to_best_simi = n_closest_tokens_to_gene_pair_to_best_simi(n_closest_tokens)\n",
    "    # Store the similarity scores in the dictionary under the current gene type.\n",
    "    close_simi_dict[gene_type] = hm_to_best_simi, mh_to_best_simi\n"
   ]
  },
  {
   "cell_type": "code",
   "execution_count": 13,
   "id": "5cfdb7fc-0b52-412f-8b21-43512591ec78",
   "metadata": {},
   "outputs": [],
   "source": [
    "gene_type_to_simi_list_dict = {gene_type:list(hm_to_best_simi.values()) for gene_type, (hm_to_best_simi, mh_to_best_simi) in close_simi_dict.items()}"
   ]
  },
  {
   "cell_type": "code",
   "execution_count": 14,
   "id": "d86f6c4e-1602-4684-8a7a-f0b8de181630",
   "metadata": {},
   "outputs": [],
   "source": [
    "data = [(k, v) for k, values in gene_type_to_simi_list_dict.items() for v in values]\n",
    "# Convert list of tuples to DataFrame\n",
    "gene_type_simi_df = pd.DataFrame(data, columns=['gene_type', 'simi'])\n"
   ]
  },
  {
   "cell_type": "code",
   "execution_count": 15,
   "id": "521d5fb4-30ab-4855-b58d-66b781bab386",
   "metadata": {},
   "outputs": [
    {
     "data": {
      "text/plain": [
       "(20750, 2)"
      ]
     },
     "execution_count": 15,
     "metadata": {},
     "output_type": "execute_result"
    }
   ],
   "source": [
    "gene_type_simi_df.shape"
   ]
  },
  {
   "cell_type": "code",
   "execution_count": 16,
   "id": "65623084-d4b9-4601-a6b2-1ab8abfd30a4",
   "metadata": {},
   "outputs": [
    {
     "name": "stdout",
     "output_type": "stream",
     "text": [
      "Using mouse project folder: /g/data/yr31/zs2131/tasks/2023/RNA_expr_net/GeneRAIN_Mouse\n",
      "Group lncRNA: 12925 samples\n",
      "Group processed_pseudogene: 3214 samples\n",
      "Group protein_coding: 3021 samples\n",
      "Group transcribed_processed_pseudogene: 350 samples\n",
      "Group transcribed_unitary_pseudogene: 51 samples\n",
      "Group transcribed_unprocessed_pseudogene: 695 samples\n",
      "Group unprocessed_pseudogene: 494 samples\n",
      "use specified GridSpec [0.12, 0.96, 0.98, 0.28]\n",
      "unique group name: {'unprocessed_pseudogene', 'transcribed_unitary_pseudogene', 'transcribed_processed_pseudogene', 'lncRNA', 'processed_pseudogene', 'protein_coding', 'transcribed_unprocessed_pseudogene'}\n",
      "group1 shape (350,)\n",
      "group2 shape (695,)\n",
      "Statistic: 133239.0, P-value: 0.01166573592137165\n",
      "p value: 0.01166573592137165\n",
      "group1 shape (3214,)\n",
      "group2 shape (494,)\n",
      "Statistic: 1263128.5, P-value: 1.354371971187207e-99\n",
      "p value: 1.354371971187207e-99\n",
      "group1 shape (695,)\n",
      "group2 shape (51,)\n",
      "Statistic: 26797.5, P-value: 1.0020500899466577e-09\n",
      "p value: 1.0020500899466577e-09\n",
      "group1 shape (3021,)\n",
      "group2 shape (12925,)\n",
      "Statistic: 25627066.0, P-value: 3.6292632400373604e-158\n",
      "p value: 3.6292632400373604e-158\n",
      "group1 shape (3021,)\n",
      "group2 shape (3214,)\n",
      "Statistic: 5672789.0, P-value: 1.091423096462903e-30\n",
      "p value: 1.091423096462903e-30\n"
     ]
    },
    {
     "name": "stderr",
     "output_type": "stream",
     "text": [
      "1 extra bytes in post.stringData array\n",
      "'created' timestamp seems very low; regarding as unix timestamp\n",
      "Zapf NOT subset; don't know how to subset; dropped\n",
      "feat NOT subset; don't know how to subset; dropped\n",
      "meta NOT subset; don't know how to subset; dropped\n",
      "morx NOT subset; don't know how to subset; dropped\n"
     ]
    },
    {
     "data": {
      "image/png": "[encoded data removed]",
      "text/plain": [
       "<Figure size 350x220 with 1 Axes>"
      ]
     },
     "metadata": {},
     "output_type": "display_data"
    }
   ],
   "source": [
    "njson = Naming_Json()\n",
    "x_order = ['protein_coding', 'lncRNA', \"processed_pseudogene\", 'unprocessed_pseudogene', 'transcribed_processed_pseudogene', 'transcribed_unprocessed_pseudogene',  \"transcribed_unitary_pseudogene\"]\n",
    "plot_comparison_box(data=gene_type_simi_df, x_var='gene_type', y_var='simi', \n",
    "                    label_column=None, title='',\n",
    "                    title_font_size=None,\n",
    "                    group_pairs=[ ('transcribed_processed_pseudogene', 'transcribed_unprocessed_pseudogene'),(\"processed_pseudogene\", 'unprocessed_pseudogene'),  ('transcribed_unprocessed_pseudogene',  \"transcribed_unitary_pseudogene\"), ('protein_coding', 'lncRNA'),('protein_coding', \"processed_pseudogene\")], \n",
    "                    min_y_value_threshold=0.1, \n",
    "                    fig_width=njson.half_fig_width, fig_height=njson.fig_height_a0,\n",
    "                    output_file=f\"{config.proj_path}//results/figures_tables/lncRNA/simi_across_gene_classes.boxplot.pdf\", constant_y=False, \n",
    "                    xlab='', \n",
    "                    GridSpec=[0.12, 0.96, 0.98, 0.28],  #left, right, top, buttom\n",
    "                    ylab=njson.simi_of_closest_gene,\n",
    "                    x_order=x_order, log_scale_y=False, \n",
    "                    rotate_xticklabels=True,\n",
    "                    xticklabels_max_len_for_wrapping=16,\n",
    "                    ylab_max_len_for_wrapping=100,\n",
    "                    horizontal_line_y_pos=0.98,\n",
    "                    vertical_line_len=0.2,\n",
    "                    star_y_pos=0.98,\n",
    "                    ns_y_pos=0.98,\n",
    "                    automaticaly_add_one_minus_one_for_y_log_scale=False,\n",
    "                    desired_y_tick_labels=None,\n",
    "                    non_constant_y_offset_ratio=0.05,\n",
    "                    use_wilcox_rank_sum_test=True\n",
    "                   )\n",
    "\n"
   ]
  },
  {
   "cell_type": "markdown",
   "id": "c0032220-2dd1-4831-8540-2dd47201c259",
   "metadata": {},
   "source": [
    "### Below is for comparing similarities from protein-coding genes only models versus coding+lncRNA+pseudogene model"
   ]
  },
  {
   "cell_type": "code",
   "execution_count": 18,
   "id": "146e8044-d5ce-4246-8792-9fe555839541",
   "metadata": {},
   "outputs": [
    {
     "name": "stdout",
     "output_type": "stream",
     "text": [
      "Using mouse project folder: /g/data/yr31/zs2131/tasks/2023/RNA_expr_net/GeneRAIN_Mouse\n",
      "Reading gene_to_idx_path /g/data/yr31/zs2131/tasks/2023/RNA_expr_net/GeneRAIN_Mouse/data/embedding/hm_coding_gene_to_idx.json!\n",
      "Loaded emb from file_path!\n",
      "Loaded emb from file_path!\n"
     ]
    }
   ],
   "source": [
    "def get_coding_gene_data():\n",
    "    exp = njson.exp\n",
    "    exp_short = exp.split(\"_\")[0]\n",
    "    m_param_json_file = f\"/g/data/yr31/zs2131/tasks/2023/RNA_expr_net/anal_mouse/training/{exp_short}/{exp}.param_config.json\"\n",
    "    os.environ['PARAM_JSON_FILE'] = m_param_json_file\n",
    "    dir_without_uid = f\"{config.proj_path}/results/anal/{exp}/{exp}.epoch{epoch}.full_supervised\"\n",
    "    muse_result_uid_dir = get_muse_result_uid_dir(dir_without_uid)\n",
    "    gene2idx, _ = get_gene2idx(params.GENE_EMB_NAME)\n",
    "    gene_to_ori_case_dict = get_gene_to_ori_case_dict(gene2idx)\n",
    "    muse_result_dir = get_muse_result_uid_dir(dir_without_uid)\n",
    "    coding_hm_emb, coding_hm_gene_names, coding_hm_token_types = load_muse_result(muse_result_dir, gene_to_ori_case_dict=gene_to_ori_case_dict)\n",
    "    coding_supv_similarity_matrix = cosine_similarity(coding_hm_emb)\n",
    "    exp = njson.exp_hm_gpt_lncrna\n",
    "    exp_short = exp.split(\"_\")[0]\n",
    "    m_param_json_file = f\"/g/data/yr31/zs2131/tasks/2023/RNA_expr_net/anal_mouse/training/{exp_short}/{exp}.param_config.json\"\n",
    "    os.environ['PARAM_JSON_FILE'] = m_param_json_file\n",
    "    return coding_supv_similarity_matrix, coding_hm_emb, coding_hm_gene_names, coding_hm_token_types\n",
    "coding_supv_similarity_matrix, coding_hm_emb, coding_hm_gene_names, coding_hm_token_types = get_coding_gene_data()"
   ]
  },
  {
   "cell_type": "code",
   "execution_count": 19,
   "id": "b65b8f6e-5888-4f21-9f7d-a8a8849dc2c3",
   "metadata": {},
   "outputs": [],
   "source": [
    "# emb_without_mixed_training_df = list_of_dicts_to_dataframe(dicts=[supervised_rank, emb_without_mixed_training_rank], \n",
    "#                                     labels=[njson.supervised, f\"{njson.supervised} ({njson.no_mixed_training})\"])\n",
    "\n",
    "# plot_side_by_side_histogram(emb_without_mixed_training_df, \n",
    "#                             figsize=(njson.half_fig_width, njson.fig_height_a0),\n",
    "#                             xlabel=njson.rank_of_orthologs,\n",
    "#                             ylabel=njson.count_of_genes,\n",
    "#                             log_scale=True,\n",
    "#                             output_file=f\"{config.proj_path}/results/figures_tables/emb_cmp_exps/emb_without_mixed_training.hist.pdf\"\n",
    "#                            )\n"
   ]
  },
  {
   "cell_type": "code",
   "execution_count": 20,
   "id": "da8550fd-8407-4a2a-bb28-b8b461043d30",
   "metadata": {},
   "outputs": [
    {
     "data": {
      "text/plain": [
       "37926"
      ]
     },
     "execution_count": 20,
     "metadata": {},
     "output_type": "execute_result"
    }
   ],
   "source": [
    "len(coding_hm_gene_names)"
   ]
  },
  {
   "cell_type": "code",
   "execution_count": 21,
   "id": "46dca0d9-a257-4a0b-8b73-50a6d24ea6ad",
   "metadata": {},
   "outputs": [],
   "source": [
    "id2idx = {name: idx for idx, name in enumerate(hm_gene_names)}\n",
    "simi_of_one2one_homolog_from_lncRNA_mat = [get_similarity(h, f\"{config.gene_prefix}{m}\", similarity_matrix, id2idx) for h, m in h2m_one2one.items()]"
   ]
  },
  {
   "cell_type": "code",
   "execution_count": 22,
   "id": "acee8662-7048-4b0e-8a71-31ca14f5532e",
   "metadata": {},
   "outputs": [],
   "source": [
    "id2idx_coding = {name: idx for idx, name in enumerate(coding_hm_gene_names)}\n",
    "simi_of_one2one_homolog_from_coding_mat = [get_similarity(h, f\"{config.gene_prefix}{m}\", coding_supv_similarity_matrix, id2idx_coding) for h, m in h2m_one2one.items()]"
   ]
  },
  {
   "cell_type": "code",
   "execution_count": 23,
   "id": "fecc4e9c-a3ba-452f-91e9-e0275776268b",
   "metadata": {},
   "outputs": [
    {
     "name": "stdout",
     "output_type": "stream",
     "text": [
      "number of samples: 16983\n"
     ]
    },
    {
     "name": "stderr",
     "output_type": "stream",
     "text": [
      "/g/data/yr31/zs2131/venv/deep_learning/lib/python3.11/site-packages/scipy/stats/_morestats.py:1816: UserWarning: p-value may not be accurate for N > 5000.\n",
      "  warnings.warn(\"p-value may not be accurate for N > 5000.\")\n",
      "/g/data/yr31/zs2131/tasks/2023/RNA_expr_net/GeneRAIN_Mouse/src_mouse/eval_m/m_visual_utils.py:89: UserWarning: color is redundantly defined by the 'color' keyword argument and the fmt string \"k--\" (-> color='k'). The keyword argument will take precedence.\n",
      "  plt.plot([0, max_range], [0, max_range], 'k--', color=\"#505050\")  # Black dashed line\n",
      "1 extra bytes in post.stringData array\n",
      "'created' timestamp seems very low; regarding as unix timestamp\n",
      "Zapf NOT subset; don't know how to subset; dropped\n",
      "feat NOT subset; don't know how to subset; dropped\n",
      "meta NOT subset; don't know how to subset; dropped\n",
      "morx NOT subset; don't know how to subset; dropped\n"
     ]
    },
    {
     "data": {
      "image/png": "[encoded data removed]",
      "text/plain": [
       "<Figure size 276x220 with 2 Axes>"
      ]
     },
     "metadata": {},
     "output_type": "display_data"
    }
   ],
   "source": [
    "scatter_width_scale = 1.2\n",
    "density_colored_scatter(simi_of_one2one_homolog_from_coding_mat, \n",
    "                        simi_of_one2one_homolog_from_lncRNA_mat,\n",
    "                        xlabel=f\"{njson.ortholog_similarity}\\nfrom coding gene model\",\n",
    "                        ylabel=f\"{njson.ortholog_similarity} from\\ncoding+lncRNA+pseudo gene model\",\n",
    "                       figsize=(njson.one3rd_fig_width*scatter_width_scale, njson.fig_height_a0),\n",
    "                        output_file=f\"{config.proj_path}/results/figures_tables/emb_cmp_exps/coding_vs_coding_lncRNA_pseudo.scatter.pdf\"\n",
    "                       )"
   ]
  }
 ],
 "metadata": {
  "kernelspec": {
   "display_name": "Python 3 (ipykernel)",
   "language": "python",
   "name": "python3"
  },
  "language_info": {
   "codemirror_mode": {
    "name": "ipython",
    "version": 3
   },
   "file_extension": ".py",
   "mimetype": "text/x-python",
   "name": "python",
   "nbconvert_exporter": "python",
   "pygments_lexer": "ipython3",
   "version": "3.11.0"
  }
 },
 "nbformat": 4,
 "nbformat_minor": 5
}
