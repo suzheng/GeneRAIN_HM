{
 "cells": [
  {
   "cell_type": "code",
   "execution_count": 23,
   "id": "30f758c3-ce2f-4dda-8073-608360593b70",
   "metadata": {},
   "outputs": [
    {
     "name": "stdout",
     "output_type": "stream",
     "text": [
      "Using mouse project folder: /g/data/yr31/zs2131/tasks/2023/RNA_expr_net/GeneRAIN_Mouse\n"
     ]
    }
   ],
   "source": [
    "import os\n",
    "import glob\n",
    "exp = \"exp16_hm_BERT_coding\"\n",
    "exp = \"exp6_hm_GPT_coding\"\n",
    "# exp = \"exp42_BERT_hm_fakenh_coding\"\n",
    "m_param_json_files = glob.glob(f\"/g/data/yr31/zs2131/tasks/2023/RNA_expr_net/anal_mouse/training/exp*/{exp}.param_config.json\")\n",
    "assert len(m_param_json_files) == 1, \"len(m_param_json_files) != 1\"\n",
    "#m_param_json_file = \"/g/data/yr31/zs2131/tasks/2023/RNA_expr_net/anal_mouse/training/exp6/exp6_hm_GPT_coding.param_config.json\"\n",
    "m_param_json_file = m_param_json_files[0]\n",
    "os.environ['PARAM_JSON_FILE'] = m_param_json_file\n",
    "os.environ['SPECIES'] = \"Mouse\"\n",
    "import numpy as np\n",
    "from train.common_params_funs import get_gene2idx\n",
    "from utils.utils import get_device, get_model, get_config, get_gene2vec\n",
    "from eval.eval_utils import get_self_emb\n",
    "from utils.params import params as params_class\n",
    "params = params_class()\n",
    "m_config = get_config()\n",
    "m_config.proj_path\n",
    "from data_m.get_homolo_mg import get_homolo_mg\n",
    "from data_m.m_data_utils import write_string_to_file"
   ]
  },
  {
   "cell_type": "code",
   "execution_count": 24,
   "id": "588e7fc1-2a8a-484f-ab7b-a48a53154e82",
   "metadata": {},
   "outputs": [
    {
     "name": "stdout",
     "output_type": "stream",
     "text": [
      "Using mouse project folder: /g/data/yr31/zs2131/tasks/2023/RNA_expr_net/GeneRAIN_Mouse\n",
      "Reading gene_to_idx_path /g/data/yr31/zs2131/tasks/2023/RNA_expr_net/GeneRAIN_Mouse/data/embedding/hm_coding_gene_to_idx.json!\n"
     ]
    },
    {
     "data": {
      "text/plain": [
       "37926"
      ]
     },
     "execution_count": 24,
     "metadata": {},
     "output_type": "execute_result"
    }
   ],
   "source": [
    "gene2idx, idx2gene = get_gene2idx()\n",
    "len(gene2idx)"
   ]
  },
  {
   "cell_type": "code",
   "execution_count": 25,
   "id": "39df2cff-32ee-4e49-93f0-d2bb970e7bd0",
   "metadata": {},
   "outputs": [
    {
     "name": "stdout",
     "output_type": "stream",
     "text": [
      "params.TRANSFORMER_MODEL_NAME GPT\n",
      "Using mouse project folder: /g/data/yr31/zs2131/tasks/2023/RNA_expr_net/GeneRAIN_Mouse\n",
      "Using mouse project folder: /g/data/yr31/zs2131/tasks/2023/RNA_expr_net/GeneRAIN_Mouse\n",
      "Reading gene_to_idx_path /g/data/yr31/zs2131/tasks/2023/RNA_expr_net/GeneRAIN_Mouse/data/embedding/hm_coding_gene_to_idx.json!\n",
      "Model checkpoint loaded from: /g/data/yr31/zs2131/tasks/2023/RNA_expr_net/GeneRAIN_Mouse//results/models/pretrain/exp6_hm_GPT_coding/model.rank0.epoch20.pth\n"
     ]
    }
   ],
   "source": [
    "epoch = 20\n",
    "expr_emb, gene_id_emb = get_self_emb(m_param_json_file,\n",
    "              m_config.proj_path + f\"/results/models/pretrain/{exp}/model.rank0.epoch{epoch}.pth\")"
   ]
  },
  {
   "cell_type": "code",
   "execution_count": 26,
   "id": "314fd9ec-6ab9-4c31-bcf3-6ffad57ebabb",
   "metadata": {},
   "outputs": [],
   "source": [
    "gene_types = np.array([\"M\" if m_config.gene_prefix in gene else \"H\" for gene in idx2gene.values()])"
   ]
  },
  {
   "cell_type": "code",
   "execution_count": null,
   "id": "aef333b9-d658-4fc4-9da8-1f9eda03d756",
   "metadata": {},
   "outputs": [],
   "source": []
  },
  {
   "cell_type": "code",
   "execution_count": 27,
   "id": "656837a5-803a-40c4-9234-0dfe9cc8240d",
   "metadata": {},
   "outputs": [],
   "source": [
    "gene_emb_npy = gene_id_emb.weight.detach().cpu().numpy()"
   ]
  },
  {
   "cell_type": "code",
   "execution_count": 28,
   "id": "1a3952ca-4404-41ba-b2dd-717105241a66",
   "metadata": {},
   "outputs": [],
   "source": [
    "gene_emb_npy_human = gene_emb_npy[gene_types==\"H\"]\n",
    "gene_emb_npy_mouse = gene_emb_npy[gene_types==\"M\"]"
   ]
  },
  {
   "cell_type": "code",
   "execution_count": 29,
   "id": "35687111-abb1-48ff-a123-fcb3bf9670d2",
   "metadata": {},
   "outputs": [
    {
     "data": {
      "text/plain": [
       "(18760, 200)"
      ]
     },
     "execution_count": 29,
     "metadata": {},
     "output_type": "execute_result"
    }
   ],
   "source": [
    "gene_emb_npy_human.shape"
   ]
  },
  {
   "cell_type": "code",
   "execution_count": 30,
   "id": "9b18eaee-b0aa-4378-8711-2fbee6d0ae40",
   "metadata": {},
   "outputs": [
    {
     "data": {
      "text/plain": [
       "(19166, 200)"
      ]
     },
     "execution_count": 30,
     "metadata": {},
     "output_type": "execute_result"
    }
   ],
   "source": [
    "gene_emb_npy_mouse.shape"
   ]
  },
  {
   "cell_type": "code",
   "execution_count": 31,
   "id": "df778697-c9bd-4f52-85cb-6e8012a3880c",
   "metadata": {},
   "outputs": [],
   "source": [
    "genes_human = np.array(list(idx2gene.values()))[gene_types==\"H\"]\n",
    "genes_mouse = np.array(list(idx2gene.values()))[gene_types==\"M\"]"
   ]
  },
  {
   "cell_type": "code",
   "execution_count": 34,
   "id": "c1108dcf-5b51-4b92-bbfd-0ac581593537",
   "metadata": {},
   "outputs": [],
   "source": [
    "genes_human_lower = [gene.lower() for gene in genes_human]\n",
    "genes_mouse_lower = [gene.lower() for gene in genes_mouse]"
   ]
  },
  {
   "cell_type": "markdown",
   "id": "13cd079a-b5ab-43b7-b9b3-4f1e2864a8bc",
   "metadata": {},
   "source": [
    "## Set random_shuffle_emb here!!!"
   ]
  },
  {
   "cell_type": "code",
   "execution_count": 35,
   "id": "ac78cbc4-8054-4b65-a874-2df5d8aa650e",
   "metadata": {},
   "outputs": [],
   "source": [
    "random_shuffle_emb = False\n",
    "if random_shuffle_emb:\n",
    "    exp = \"random_emb\"\n",
    "    # Setting a random seed for reproducibility\n",
    "    np.random.seed(8)\n",
    "    # Randomly shuffle rows of the array\n",
    "    np.random.shuffle(gene_emb_npy_human)\n",
    "    np.random.shuffle(gene_emb_npy_mouse)"
   ]
  },
  {
   "cell_type": "code",
   "execution_count": 36,
   "id": "e2cba888-1906-4a69-a77e-bc4f3165a424",
   "metadata": {},
   "outputs": [],
   "source": [
    "out_dir = m_config.proj_path + f\"/results/anal/{exp}/\"\n",
    "os.makedirs(out_dir, exist_ok=True)\n"
   ]
  },
  {
   "cell_type": "code",
   "execution_count": 37,
   "id": "e200beb0-1ac8-4b2c-a723-14f23abc0323",
   "metadata": {},
   "outputs": [
    {
     "name": "stdout",
     "output_type": "stream",
     "text": [
      "Saved to /g/data/yr31/zs2131/tasks/2023/RNA_expr_net/GeneRAIN_Mouse//results/anal/exp6_hm_GPT_coding//gene_emb_human.epoch20.txt\n",
      "Saved to /g/data/yr31/zs2131/tasks/2023/RNA_expr_net/GeneRAIN_Mouse//results/anal/exp6_hm_GPT_coding//gene_emb_mouse.epoch20.txt\n"
     ]
    }
   ],
   "source": [
    "def output_emb(token_id_list, token_emb_mat, output_file_path, write_emb_dim_to_first_line=False):\n",
    "    # Writing the embeddings along with the token names to the file in the MUSE expected format\n",
    "    with open(output_file_path, 'w') as file:\n",
    "        first_line = True\n",
    "        for token, embedding in zip(token_id_list, token_emb_mat):\n",
    "            if first_line and write_emb_dim_to_first_line:\n",
    "                file.write(f\"{token_emb_mat.shape[0]} {token_emb_mat.shape[1]}\\n\")\n",
    "                first_line = False\n",
    "            # Joining the embedding vector into a space-separated string\n",
    "            embedding_str = ' '.join(map(str, embedding))\n",
    "            # Writing the token and its embedding to the file\n",
    "            file.write(f\"{token} {embedding_str}\\n\")\n",
    "    print(f\"Saved to {output_file_path}\")\n",
    "output_emb(genes_human_lower, gene_emb_npy_human, f\"{out_dir}/gene_emb_human.epoch{epoch}.txt\", write_emb_dim_to_first_line=True)\n",
    "output_emb(genes_mouse_lower, gene_emb_npy_mouse, f\"{out_dir}/gene_emb_mouse.epoch{epoch}.txt\", write_emb_dim_to_first_line=True)"
   ]
  },
  {
   "cell_type": "code",
   "execution_count": 38,
   "id": "9cf738c4-ad86-464b-9f70-7256177ddf18",
   "metadata": {},
   "outputs": [],
   "source": [
    "if \"fakenh\" in exp:\n",
    "    h2m_one2one = {gene: gene for gene in gene2idx.keys() if \"SPECIAL_EMB\" not in gene and m_config.gene_prefix not in gene}\n",
    "    m2h_one2one = h2m_one2one\n",
    "    h2m_genes = {gene: [gene] for gene in h2m_one2one}\n",
    "    m2h_genes = h2m_genes\n",
    "else:\n",
    "    h2m_genes, m2h_genes, h2m_one2one, m2h_one2one = get_homolo_mg()"
   ]
  },
  {
   "cell_type": "code",
   "execution_count": 39,
   "id": "dbd969fd-a8bc-4dfb-860c-fa5149556424",
   "metadata": {},
   "outputs": [
    {
     "name": "stdout",
     "output_type": "stream",
     "text": [
      "Saved to /g/data/yr31/zs2131/tasks/2023/RNA_expr_net/GeneRAIN_Mouse//results/anal/exp6_hm_GPT_coding//gene_emb_human.epoch20.dico_eval.txt\n"
     ]
    }
   ],
   "source": [
    "def dict_to_file(dict_data, file_name):\n",
    "    \"\"\"\n",
    "    Writes a dictionary to a text file, with each key-value pair on a new line,\n",
    "    and the key and value separated by a space or tab.\n",
    "\n",
    "    Parameters:\n",
    "    dict_data (dict): The dictionary to write to the file.\n",
    "    file_name (str): The name of the file to which to write the dictionary.\n",
    "    \"\"\"\n",
    "    with open(file_name, 'w') as file:\n",
    "        for key, value in dict_data.items():\n",
    "            file.write(f\"{m_config.gene_prefix}{key.lower()}\\t{value.lower()}\\n\")\n",
    "    print(f\"Saved to {file_name}\")\n",
    "\n",
    "import math\n",
    "\n",
    "def split_dict(input_dict, split_ratio=0.95):\n",
    "    # Determine the size of the dictionary and the split count\n",
    "    total_size = len(input_dict)\n",
    "    split_count = math.ceil(total_size * split_ratio)\n",
    "\n",
    "    # Create two new dictionaries for the split\n",
    "    part1 = dict(list(input_dict.items())[:split_count])\n",
    "    part2 = dict(list(input_dict.items())[split_count:])\n",
    "\n",
    "    return part1, part2\n",
    "\n",
    "dict_to_file(m2h_one2one, f\"{out_dir}/gene_emb_human.epoch{epoch}.dico_eval.txt\")"
   ]
  },
  {
   "cell_type": "code",
   "execution_count": 40,
   "id": "39a5f462-a77d-43d5-ab1e-50e3b2e0eccf",
   "metadata": {},
   "outputs": [],
   "source": [
    "script_path = \"/g/data/yr31/zs2131/tasks/2023/RNA_expr_net/other_repos/MUSE/\"\n",
    "n_refinement_muse = 5"
   ]
  },
  {
   "cell_type": "markdown",
   "id": "5ca7f407-f029-431c-91b5-b2bb56599f36",
   "metadata": {},
   "source": [
    "### Generate command for unsupervised.py"
   ]
  },
  {
   "cell_type": "code",
   "execution_count": 42,
   "id": "194ef3b8-4d84-48e7-ac03-ed17af929282",
   "metadata": {},
   "outputs": [
    {
     "data": {
      "text/plain": [
       "'String written to /g/data/yr31/zs2131/tasks/2023/RNA_expr_net/GeneRAIN_Mouse//results/anal/exp6_hm_GPT_coding//exp6_hm_GPT_coding.epoch20.unsupervised/MUSE_cmd.sh'"
      ]
     },
     "execution_count": 42,
     "metadata": {},
     "output_type": "execute_result"
    }
   ],
   "source": [
    "n_epochs_muse = 2\n",
    "cmd = f\"python3 {script_path}/unsupervised.py --src_lang mouse --tgt_lang human --emb_dim 200 --cuda True --src_emb {out_dir}/gene_emb_mouse.epoch{epoch}.txt --tgt_emb {out_dir}/gene_emb_human.epoch{epoch}.txt --dis_most_frequent 0 --exp_path {out_dir} --exp_name {exp}.epoch{epoch}.unsupervised --n_epochs {n_epochs_muse} --dico_eval {out_dir}/gene_emb_human.epoch{epoch}.dico_eval.txt\"\n",
    "write_string_to_file(f\"{out_dir}/{exp}.epoch{epoch}.unsupervised/MUSE_cmd.sh\", cmd)\n"
   ]
  },
  {
   "cell_type": "markdown",
   "id": "8943abe0-f01c-4377-852b-db3a9ab3c582",
   "metadata": {},
   "source": [
    "### Generate command for partial supervised (5000 genes)"
   ]
  },
  {
   "cell_type": "code",
   "execution_count": 43,
   "id": "69ee9670-cede-4d07-a696-6323022e1dd9",
   "metadata": {},
   "outputs": [
    {
     "name": "stdout",
     "output_type": "stream",
     "text": [
      "Using mouse project folder: /g/data/yr31/zs2131/tasks/2023/RNA_expr_net/GeneRAIN_Mouse\n",
      "Reading gene_to_idx_path /g/data/yr31/zs2131/tasks/2023/RNA_expr_net/GeneRAIN_Mouse/data/embedding/hm_merge0_coding_gene_to_idx.json!\n",
      "Saved to /g/data/yr31/zs2131/tasks/2023/RNA_expr_net/GeneRAIN_Mouse//results/anal/exp6_hm_GPT_coding//gene_emb_human.epoch20.dico_train_partial0.txt\n",
      "Saved to /g/data/yr31/zs2131/tasks/2023/RNA_expr_net/GeneRAIN_Mouse//results/anal/exp6_hm_GPT_coding//gene_emb_human.epoch20.dico_eval_partial0.txt\n",
      "Using mouse project folder: /g/data/yr31/zs2131/tasks/2023/RNA_expr_net/GeneRAIN_Mouse\n",
      "Reading gene_to_idx_path /g/data/yr31/zs2131/tasks/2023/RNA_expr_net/GeneRAIN_Mouse/data/embedding/hm_merge1_coding_gene_to_idx.json!\n",
      "Saved to /g/data/yr31/zs2131/tasks/2023/RNA_expr_net/GeneRAIN_Mouse//results/anal/exp6_hm_GPT_coding//gene_emb_human.epoch20.dico_train_partial1.txt\n",
      "Saved to /g/data/yr31/zs2131/tasks/2023/RNA_expr_net/GeneRAIN_Mouse//results/anal/exp6_hm_GPT_coding//gene_emb_human.epoch20.dico_eval_partial1.txt\n",
      "Using mouse project folder: /g/data/yr31/zs2131/tasks/2023/RNA_expr_net/GeneRAIN_Mouse\n",
      "Reading gene_to_idx_path /g/data/yr31/zs2131/tasks/2023/RNA_expr_net/GeneRAIN_Mouse/data/embedding/hm_merge2_coding_gene_to_idx.json!\n",
      "Saved to /g/data/yr31/zs2131/tasks/2023/RNA_expr_net/GeneRAIN_Mouse//results/anal/exp6_hm_GPT_coding//gene_emb_human.epoch20.dico_train_partial2.txt\n",
      "Saved to /g/data/yr31/zs2131/tasks/2023/RNA_expr_net/GeneRAIN_Mouse//results/anal/exp6_hm_GPT_coding//gene_emb_human.epoch20.dico_eval_partial2.txt\n"
     ]
    }
   ],
   "source": [
    "\n",
    "\n",
    "# --dis_most_frequent 0\n",
    "for partial_merge_idx in range(0, 3):\n",
    "    partial_gene2idx, _ = get_gene2idx(f\"hm_merge{partial_merge_idx}_coding\")\n",
    "    m2h_one2one_train = {k:v for k, v in m2h_one2one.items() if partial_gene2idx.get(f\"{m_config.gene_prefix}{k}\", 100000000) < params.NUM_GENE_TO_MERGE_INDICES}\n",
    "    m2h_one2one_eval = {k:v for k, v in m2h_one2one.items() if partial_gene2idx.get(f\"{m_config.gene_prefix}{k}\", 0) >= params.NUM_GENE_TO_MERGE_INDICES}\n",
    "    \n",
    "    dict_to_file(m2h_one2one_train, f\"{out_dir}/gene_emb_human.epoch{epoch}.dico_train_partial{partial_merge_idx}.txt\")\n",
    "    dict_to_file(m2h_one2one_eval, f\"{out_dir}/gene_emb_human.epoch{epoch}.dico_eval_partial{partial_merge_idx}.txt\")\n",
    "    cmd = f\"python3 {script_path}/supervised.py --n_refinement {n_refinement_muse} --src_lang mouse --tgt_lang human --emb_dim 200 --cuda True --src_emb {out_dir}/gene_emb_mouse.epoch{epoch}.txt --tgt_emb {out_dir}/gene_emb_human.epoch{epoch}.txt --exp_path {out_dir} --exp_name {exp}.epoch{epoch}.partial{partial_merge_idx} --dico_train {out_dir}/gene_emb_human.epoch{epoch}.dico_train_partial{partial_merge_idx}.txt --dico_eval {out_dir}/gene_emb_human.epoch{epoch}.dico_eval_partial{partial_merge_idx}.txt\"\n",
    "    write_string_to_file(f\"{out_dir}/{exp}.epoch{epoch}.partial{partial_merge_idx}/MUSE_cmd.sh\", cmd)\n"
   ]
  },
  {
   "cell_type": "markdown",
   "id": "e5751280-9f80-4d4a-a616-0fa9a1ed2f23",
   "metadata": {},
   "source": [
    "### Generate command for full supervised (5000 genes)\n",
    "95% of gene for training, 5% for evaluation"
   ]
  },
  {
   "cell_type": "code",
   "execution_count": 45,
   "id": "a24c56df-df6a-438e-a959-b2c7781b8bf9",
   "metadata": {},
   "outputs": [
    {
     "name": "stdout",
     "output_type": "stream",
     "text": [
      "Saved to /g/data/yr31/zs2131/tasks/2023/RNA_expr_net/GeneRAIN_Mouse//results/anal/exp6_hm_GPT_coding//gene_emb_human.epoch20.dico_9.txt\n",
      "Saved to /g/data/yr31/zs2131/tasks/2023/RNA_expr_net/GeneRAIN_Mouse//results/anal/exp6_hm_GPT_coding//gene_emb_human.epoch20.dico_1.txt\n"
     ]
    }
   ],
   "source": [
    "m2h_one2one_9, m2h_one2one_1 = split_dict(m2h_one2one, split_ratio=0.95)\n",
    "dict_to_file(m2h_one2one_9, f\"{out_dir}/gene_emb_human.epoch{epoch}.dico_9.txt\")\n",
    "dict_to_file(m2h_one2one_1, f\"{out_dir}/gene_emb_human.epoch{epoch}.dico_1.txt\")"
   ]
  },
  {
   "cell_type": "code",
   "execution_count": 44,
   "id": "f789d385-075c-4e15-8ddb-e258fee3f78d",
   "metadata": {},
   "outputs": [
    {
     "data": {
      "text/plain": [
       "'String written to /g/data/yr31/zs2131/tasks/2023/RNA_expr_net/GeneRAIN_Mouse//results/anal/exp6_hm_GPT_coding//exp6_hm_GPT_coding.epoch20.full_supervised/MUSE_cmd.sh'"
      ]
     },
     "execution_count": 44,
     "metadata": {},
     "output_type": "execute_result"
    }
   ],
   "source": [
    "\n",
    "cmd = f\"python3 {script_path}/supervised.py --n_refinement {n_refinement_muse} --src_lang mouse --tgt_lang human --emb_dim 200 --cuda True --src_emb {out_dir}/gene_emb_mouse.epoch{epoch}.txt --tgt_emb {out_dir}/gene_emb_human.epoch{epoch}.txt --exp_path {out_dir} --exp_name {exp}.epoch{epoch}.full_supervised --dico_train {out_dir}/gene_emb_human.epoch{epoch}.dico_9.txt --dico_eval {out_dir}/gene_emb_human.epoch{epoch}.dico_1.txt\"\n",
    "write_string_to_file(f\"{out_dir}/{exp}.epoch{epoch}.full_supervised/MUSE_cmd.sh\", cmd)\n",
    "\n",
    "\n"
   ]
  }
 ],
 "metadata": {
  "kernelspec": {
   "display_name": "Python 3 (ipykernel)",
   "language": "python",
   "name": "python3"
  },
  "language_info": {
   "codemirror_mode": {
    "name": "ipython",
    "version": 3
   },
   "file_extension": ".py",
   "mimetype": "text/x-python",
   "name": "python",
   "nbconvert_exporter": "python",
   "pygments_lexer": "ipython3",
   "version": "3.11.0"
  }
 },
 "nbformat": 4,
 "nbformat_minor": 5
}
