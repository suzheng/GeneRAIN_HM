{
 "cells": [
  {
   "cell_type": "code",
   "execution_count": 1,
   "id": "15e77b67-a502-4457-953b-ba3ca88cf8d4",
   "metadata": {},
   "outputs": [
    {
     "ename": "ModuleNotFoundError",
     "evalue": "No module named 'cupy'",
     "output_type": "error",
     "traceback": [
      "\u001b[0;31m---------------------------------------------------------------------------\u001b[0m",
      "\u001b[0;31mModuleNotFoundError\u001b[0m                       Traceback (most recent call last)",
      "Cell \u001b[0;32mIn [1], line 1\u001b[0m\n\u001b[0;32m----> 1\u001b[0m \u001b[38;5;28;01mimport\u001b[39;00m \u001b[38;5;21;01mcupy\u001b[39;00m \u001b[38;5;28;01mas\u001b[39;00m \u001b[38;5;21;01mcp\u001b[39;00m\n",
      "\u001b[0;31mModuleNotFoundError\u001b[0m: No module named 'cupy'"
     ]
    }
   ],
   "source": [
    "import cupy as cp"
   ]
  },
  {
   "cell_type": "code",
   "execution_count": 2,
   "id": "b9a6f3f1-eecf-4121-97f1-f933a105154d",
   "metadata": {},
   "outputs": [
    {
     "data": {
      "text/plain": [
       "array([[ 5.5, 11. , 30. ],\n",
       "       [ 4. , 50. , 33. ]])"
      ]
     },
     "execution_count": 2,
     "metadata": {},
     "output_type": "execute_result"
    }
   ],
   "source": [
    "import numpy as np\n",
    "\n",
    "# Assuming arr1 and arr2 are your 2D tensor arrays with the same shape\n",
    "# Here are some dummy arrays for demonstration. Replace them with your actual data.\n",
    "arr1 = np.array([[1, 2, np.nan], [4, np.nan, 6]])\n",
    "arr2 = np.array([[10, 20, 30], [np.nan, 50, 60]])\n",
    "\n",
    "# Create masks for valid (non-NaN) values in each array\n",
    "mask1 = ~np.isnan(arr1)\n",
    "mask2 = ~np.isnan(arr2)\n",
    "\n",
    "# Compute the sum of the two arrays, treating NaNs as 0\n",
    "sum_arr = np.nan_to_num(arr1) + np.nan_to_num(arr2)\n",
    "\n",
    "# Calculate the number of non-NaN elements from both arrays for each position\n",
    "count_non_nan = mask1.astype(int) + mask2.astype(int)\n",
    "\n",
    "# Calculate the average, avoiding division by zero\n",
    "average_arr = np.divide(sum_arr, count_non_nan, out=np.zeros_like(sum_arr), where=count_non_nan!=0)\n",
    "\n",
    "average_arr  # This is the 2D array with the average values\n",
    "\n"
   ]
  },
  {
   "cell_type": "code",
   "execution_count": 5,
   "id": "104f99e9-ad54-4c4c-a23e-fd92afbaabd8",
   "metadata": {},
   "outputs": [
    {
     "data": {
      "text/plain": [
       "(array([[ 5.5, 74. , 16.5],\n",
       "        [ nan, 27.5, 33. ]]),\n",
       " array([[ 4.5       , 89.39798655, 13.5       ],\n",
       "        [        nan, 22.5       , 27.        ]]))"
      ]
     },
     "execution_count": 5,
     "metadata": {},
     "output_type": "execute_result"
    }
   ],
   "source": [
    "def mean_and_std_of_arrays(arrays):\n",
    "    \"\"\"\n",
    "    Calculate the mean and standard deviation of a list of 2D arrays, handling missing values (NaNs),\n",
    "    and returning NaN for elements that are all-NaN across all slices.\n",
    "    \n",
    "    Parameters:\n",
    "    arrays (list of np.array): A list of 2D numpy arrays with the same shape.\n",
    "    \n",
    "    Returns:\n",
    "    tuple: A tuple containing two 2D arrays, the first with mean values and the second with standard deviation values.\n",
    "           Both arrays will have NaN where all elements were NaN in the input arrays.\n",
    "    \"\"\"\n",
    "    # Convert the list of arrays to a 3D numpy array where each 2D array is a slice\n",
    "    arr_stack = np.array(arrays)\n",
    "    \n",
    "    # Count the number of non-NaN elements along the new axis (0)\n",
    "    count_non_nan = np.count_nonzero(~np.isnan(arr_stack), axis=0)\n",
    "    \n",
    "    # Compute the sum along the new axis while treating NaNs as 0\n",
    "    sum_arr = np.nansum(arr_stack, axis=0)\n",
    "    \n",
    "    # Calculate the mean, handling divisions by zero by returning NaN in those cases\n",
    "    mean_arr = np.divide(sum_arr, count_non_nan, out=np.full(sum_arr.shape, np.nan), where=count_non_nan!=0)\n",
    "    \n",
    "    # Calculate standard deviation, using the same count to handle NaNs properly\n",
    "    std_arr = np.sqrt(np.divide(np.nansum((arr_stack - mean_arr)**2, axis=0), count_non_nan, out=np.full(sum_arr.shape, np.nan), where=count_non_nan!=0))\n",
    "    \n",
    "    return mean_arr, std_arr\n",
    "\n",
    "# Example Usage:\n",
    "# Creating a list of 2D arrays with some NaNs for demonstration\n",
    "array1 = np.array([[1, 2, np.nan], [np.nan, np.nan, 6]])\n",
    "array2 = np.array([[10, 20, 30], [np.nan, 50, 60]])\n",
    "array3 = np.array([[np.nan, 200, 3], [np.nan, 5, np.nan]])\n",
    "\n",
    "# Calculating the mean of the arrays\n",
    "mean_array, std_array= mean_and_std_of_arrays([array1, array2, array3])\n",
    "mean_array, std_array  # Displaying the mean array\n",
    "\n"
   ]
  },
  {
   "cell_type": "code",
   "execution_count": 7,
   "id": "34f33a61-cb7c-499d-922e-aa6677ba72fb",
   "metadata": {},
   "outputs": [
    {
     "name": "stdout",
     "output_type": "stream",
     "text": [
      "[[1 2 3]\n",
      " [2 4 5]\n",
      " [3 5 6]]\n"
     ]
    },
    {
     "data": {
      "text/plain": [
       "array([[6, 3, 5],\n",
       "       [3, 1, 2],\n",
       "       [5, 2, 4]])"
      ]
     },
     "execution_count": 7,
     "metadata": {},
     "output_type": "execute_result"
    }
   ],
   "source": [
    "def reorder_symmetric_matrix(matrix, original_order, new_order):\n",
    "    \"\"\"\n",
    "    Reorder the rows and columns of a 2D symmetric matrix according to a new order of its row/column names.\n",
    "    \n",
    "    Parameters:\n",
    "    matrix (np.array): The original 2D symmetric matrix to be reordered.\n",
    "    original_order (list): The list of row/column names in the original order of the matrix.\n",
    "    new_order (list): The list of row/column names in the desired new order.\n",
    "    \n",
    "    Returns:\n",
    "    np.array: The reordered 2D symmetric matrix.\n",
    "    \"\"\"\n",
    "    # Create a mapping from gene names to their index in the original matrix\n",
    "    gene_to_index = {gene: idx for idx, gene in enumerate(original_order)}\n",
    "\n",
    "    # Get the indices of the new order\n",
    "    new_order_indices = [gene_to_index[gene] for gene in new_order]\n",
    "\n",
    "    # Reorder the matrix rows and columns using the new order indices\n",
    "    reordered_matrix = matrix[np.ix_(new_order_indices, new_order_indices)]\n",
    "\n",
    "    return reordered_matrix\n",
    "\n",
    "# Example Usage:\n",
    "matrix = np.array([[1, 2, 3], [2, 4, 5], [3, 5, 6]])\n",
    "gene_names = ['GeneA', 'GeneB', 'GeneC']\n",
    "gene_names_new_order = ['GeneC', 'GeneA', 'GeneB']\n",
    "print(matrix)\n",
    "# Reordering the matrix\n",
    "reordered_matrix = reorder_symmetric_matrix(matrix, gene_names, gene_names_new_order)\n",
    "reordered_matrix  # Displaying the reordered matrix\n",
    "\n",
    "\n"
   ]
  },
  {
   "cell_type": "code",
   "execution_count": 7,
   "id": "996217d7-da13-4ab9-af2e-ac3926f21edb",
   "metadata": {},
   "outputs": [
    {
     "name": "stdout",
     "output_type": "stream",
     "text": [
      "[[1 2 3]\n",
      " [2 4 5]\n",
      " [3 5 6]]\n"
     ]
    },
    {
     "data": {
      "text/plain": [
       "array([[6., 3., 5., 3.],\n",
       "       [3., 1., 2., 1.],\n",
       "       [5., 2., 4., 2.],\n",
       "       [3., 1., 2., 1.]])"
      ]
     },
     "execution_count": 7,
     "metadata": {},
     "output_type": "execute_result"
    }
   ],
   "source": [
    "def reorder_symmetric_matrix_vectorized(matrix, original_order, new_order):\n",
    "    \"\"\"\n",
    "    Efficiently reorder the rows and columns of a 2D symmetric matrix according to a new order of its row/column names,\n",
    "    using vectorized operations for better performance with large matrices.\n",
    "    \n",
    "    Parameters:\n",
    "    matrix (np.array): The original 2D symmetric matrix to be reordered.\n",
    "    original_order (list): The list of row/column names in the original order of the matrix.\n",
    "    new_order (list): The list of row/column names in the desired new order.\n",
    "    \n",
    "    Returns:\n",
    "    np.array: The reordered 2D symmetric matrix.\n",
    "    \"\"\"\n",
    "    # Create a mapping from gene names to their index in the original matrix\n",
    "    gene_to_index = {gene: idx for idx, gene in enumerate(original_order)}\n",
    "    \n",
    "    # Convert the new order into indices, with -1 for genes not in the original order\n",
    "    new_indices = [gene_to_index.get(gene, -1) for gene in new_order]\n",
    "    \n",
    "    # Create a mask for valid indices (excluding -1)\n",
    "    valid_mask = np.array(new_indices) != -1\n",
    "    \n",
    "    # Filter out valid indices for both rows and columns\n",
    "    valid_row_indices = np.array(new_indices)[valid_mask]\n",
    "    valid_col_indices = valid_row_indices.copy()  # Symmetric matrix has the same row and column indices\n",
    "\n",
    "    # Initialize a new matrix filled with NaN\n",
    "    new_matrix = np.full((len(new_order), len(new_order)), np.nan)\n",
    "    \n",
    "    # Use valid indices to fill the new matrix from the original matrix\n",
    "    new_matrix[np.ix_(valid_mask, valid_mask)] = matrix[np.ix_(valid_row_indices, valid_col_indices)]\n",
    "\n",
    "    return new_matrix\n",
    "\n",
    "# Example Usage:\n",
    "matrix = np.array([[1, 2, 3], [2, 4, 5], [3, 5, 6]])\n",
    "original_order = ['GeneA', 'GeneB', 'GeneC']\n",
    "new_order = ['GeneC', 'GeneA', 'GeneB', 'GeneA']\n",
    "print(matrix)\n",
    "# Reordering the matrix using vectorized operations\n",
    "reordered_matrix = reorder_symmetric_matrix_vectorized(matrix, original_order, new_order)\n",
    "reordered_matrix\n"
   ]
  },
  {
   "cell_type": "code",
   "execution_count": null,
   "id": "13633581-9ee7-4bf0-83e4-4887723a697e",
   "metadata": {},
   "outputs": [],
   "source": [
    "def mean_and_std_of_arrays_old(arrays):\n",
    "    \"\"\"\n",
    "    Calculate the mean and standard deviation of a list of 2D arrays, handling missing values (NaNs),\n",
    "    and returning NaN for elements that are all-NaN across all slices.\n",
    "    \n",
    "    Parameters:\n",
    "    arrays (list of np.array): A list of 2D numpy arrays with the same shape.\n",
    "    \n",
    "    Returns:\n",
    "    tuple: A tuple containing two 2D arrays, the first with mean values and the second with standard deviation values.\n",
    "           Both arrays will have NaN where all elements were NaN in the input arrays.\n",
    "    \"\"\"\n",
    "    # Convert the list of arrays to a 3D numpy array where each 2D array is a slice\n",
    "    arr_stack = np.array(arrays)\n",
    "    \n",
    "    # Count the number of non-NaN elements along the new axis (0)\n",
    "    count_non_nan = np.count_nonzero(~np.isnan(arr_stack), axis=0)\n",
    "    \n",
    "    # Compute the sum along the new axis while treating NaNs as 0\n",
    "    sum_arr = np.nansum(arr_stack, axis=0)\n",
    "    \n",
    "    # Calculate the mean, handling divisions by zero by returning NaN in those cases\n",
    "    mean_arr = np.divide(sum_arr, count_non_nan, out=np.full(sum_arr.shape, np.nan), where=count_non_nan!=0)\n",
    "    \n",
    "    # Calculate standard deviation, using the same count to handle NaNs properly\n",
    "    std_arr = np.sqrt(np.divide(np.nansum((arr_stack - mean_arr)**2, axis=0), count_non_nan, out=np.full(sum_arr.shape, np.nan), where=count_non_nan!=0))\n",
    "    \n",
    "    return mean_arr, std_arr\n",
    "    \n",
    "def mean_and_std_of_arrays(arrays):\n",
    "    \"\"\"\n",
    "    Calculate the mean and standard deviation of a list of 2D arrays, handling missing values (NaNs),\n",
    "    and returning NaN for elements that are all-NaN across all slices.\n",
    "    \n",
    "    Parameters:\n",
    "    arrays (list of np.array): A list of 2D numpy arrays with the same shape.\n",
    "    \n",
    "    Returns:\n",
    "    tuple: A tuple containing two 2D arrays, the first with mean values and the second with standard deviation values.\n",
    "           Both arrays will have NaN where all elements were NaN in the input arrays.\n",
    "    \"\"\"\n",
    "    # Convert the list of arrays to a 3D numpy array where each 2D array is a slice\n",
    "    arr_stack = np.array(arrays)\n",
    "    \n",
    "    # Count the number of non-NaN elements along the new axis (0)\n",
    "    count_non_nan = np.count_nonzero(~np.isnan(arr_stack), axis=0)\n",
    "    \n",
    "    # Calculate the mean, handling divisions by zero by returning NaN in those cases\n",
    "    mean_arr = np.nanmean(arr_stack, axis=0)\n",
    "    \n",
    "    # Calculate standard deviation, using nanstd to handle NaNs properly\n",
    "    std_arr = np.nanstd(arr_stack, axis=0)\n",
    "    \n",
    "    # Free up memory by deleting the 3D array\n",
    "    del arr_stack\n",
    "    \n",
    "    return mean_arr, std_arr\n",
    "\n",
    "mean_orig, std_orig = mean_and_std_of_arrays_old(tmp_reordered_simi_matrix_list)\n",
    "mean_mod, std_mod = mean_and_std_of_arrays(tmp_reordered_simi_matrix_list)\n",
    "(mean_orig == mean_mod).all(), (std_orig == std_mod).all()"
   ]
  }
 ],
 "metadata": {
  "kernelspec": {
   "display_name": "Python 3 (ipykernel)",
   "language": "python",
   "name": "python3"
  },
  "language_info": {
   "codemirror_mode": {
    "name": "ipython",
    "version": 3
   },
   "file_extension": ".py",
   "mimetype": "text/x-python",
   "name": "python",
   "nbconvert_exporter": "python",
   "pygments_lexer": "ipython3",
   "version": "3.11.0"
  }
 },
 "nbformat": 4,
 "nbformat_minor": 5
}
