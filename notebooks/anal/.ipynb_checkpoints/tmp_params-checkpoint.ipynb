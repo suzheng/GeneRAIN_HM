{
 "cells": [
  {
   "cell_type": "code",
   "execution_count": 2,
   "id": "1de5ad4f-a6d7-4dcd-bd65-6aaaf2cf5508",
   "metadata": {},
   "outputs": [],
   "source": [
    "\n",
    "import os\n",
    "m_param_json_file = \"/g/data/yr31/zs2131/tasks/2023/RNA_expr_net/anal_mouse/training/exp6/exp6_hm_GPT_coding.param_config.json\"\n",
    "os.environ[\"PARAM_JSON_FILE\"] = m_param_json_file\n",
    "import json\n",
    "\n",
    "default_values = {\n",
    "    \"GENE_EMB_NAME\": \"gene2vec\", # gene2vec coding_pseudo coding_lncrna coding_smallrna coding_hs_mouse coding\n",
    "    \"TOTAL_NUMBER_OF_DATASETS\": 5,\n",
    "    \"DATASET_TO_GET_FOR_MIXED_DATASET\": None, # [\"both\", \"human\", \"nonhuman\", None]\n",
    "    \"HIDDEN_SIZE\": 200,\n",
    "    \"PERFORMER_NET_LAST_LAYER_REQUIRES_GRAD\": True,\n",
    "    \"FINETUNE_TO_RECONSTRUCT_EXPR_OF_ALL_GENES\": False,\n",
    "    \"USE_PRETRAIN_MODEL_FOR_FINETUNE\": True,\n",
    "    \"PRETRAIN_EXPERIMENT_FOR_FINETUNE\": \"exp9\",\n",
    "    \"TRANSFORMER_MODEL_NAME\": \"Bert\",\n",
    "    \"LAYER_NORM_EPS\": 1e-12,\n",
    "    \"OUTPUT_ATTENTIONS\": False,\n",
    "    \"OUTPUT_HIDDEN_STATES\": False,\n",
    "    \"ONLY_USE_PERTURBED_GENE_TO_PREDICT\": False,\n",
    "    \"LEARN_ON_ZERO_EXPR_GENES\": False,\n",
    "    \"OUTPUT_PARAMETER_HIST_TO_TENSOBOARD_BY_BATCH\": False,\n",
    "    \"TRANSFORMER_NORM_FIRST\": True,\n",
    "    \"TRANSFORMER_HIDDEN_ACT_FUNC\": \"gelu\",\n",
    "    \"MIN_MEAN_VAL_FOR_ZSCORE\": 0.1,\n",
    "    \"SAMPLE_NUMBER_FOR_EACH_PERTURBATION\": 10,\n",
    "    \"PERTURBED_GENE_ALWAYS_IN_INPUT_EXPR_IN_PERTURB_DATASET\": False,\n",
    "    \"PRETRAIN_LOSS_ONLY_ON_MASKED_GENES\": True,\n",
    "    \"USE_AND_KEEP_ZERO_EXPR_GENES\": True,\n",
    "    \"NUM_OF_GENES_SELECTED\": -1, # -1 for selecting all genes\n",
    "    \"ONLY_USE_POSITIVE_ZSCORES_IN_TRAINING\": False,\n",
    "    \"SHUFFLE_GENE_INDICES_IN_EVALUATION\": False,\n",
    "    \"SHUFFLE_EXPR_INDICES_IN_EVALUATION\": False,\n",
    "    \"METHOD_TO_COMBINE_INPUT_AND_ENCODING\": None,\n",
    "    \"NUM_BINS\": 100,\n",
    "    \"MASK_FRACTIONS\": [0.15, 0.2, 0.3, 0.4, 0.5, 0.6, 0.7, 0.8, 0.9],\n",
    "    \"PERCENT_OF_MASKED_GENES_ASSIGNED_AS_TOKEN_ZERO\": 0.8,\n",
    "    \"PERCENT_OF_MASKED_GENES_ASSIGNED_AS_RANDOM_TOKENS\": 0.1,\n",
    "    \"BATCH_SIZE\": 8,\n",
    "    \"MODEL_DEPTH\": 6,\n",
    "    \"NUM_HEADS\": 8,\n",
    "    \"DIM_HEAD\": 32,\n",
    "    \"NO_RPOJECTION\": False,\n",
    "    \"MODEL_REVERSIBLE\": True,\n",
    "    \"FEATURE_REDRAW_INTERVAL\": 1000,\n",
    "    \"EMB_DROPOUT\": 0.,\n",
    "    \"FF_DROPOUT\": 0.1,\n",
    "    \"ATTN_DROPOUT\": 0.1,\n",
    "    \"OUTPUTLAYER2FCS_DROPOUT_RATE\": 0.1,\n",
    "    \"GENERALIZED_ATTENTION\": False,\n",
    "    \"EXPRESSION_EMB_TYPE\": \"positional\",\n",
    "    \"TO_OUT_LAYER_TYPE\": \"2FCs\",\n",
    "    \"OUTPUT_LAYER_HIDDEN_SIZE1\": 40,\n",
    "    \"OUTPUT_LAYER_HIDDEN_SIZE2\": 20,\n",
    "    \"PRETRAINED_TOKEN_EMB_FOR_INIT\": False,\n",
    "    \"GENE_ID_EMB_REQUIRES_GRAD\": True,\n",
    "    \"EXPR_EMB_REQUIRES_GRAD\": True,\n",
    "    \"BASE_LR\": 0.00001,\n",
    "    \"MAX_LR\": 0.0001,\n",
    "    \"EPOCH_TO_HAVE_MANUAL_LR\": 30,\n",
    "    \"ONE_CYCLE_LR_PCT_START\": 0.2,\n",
    "    \"ONE_CYCLE_LR_DIV_FACTOR\": 5,\n",
    "    \"ONE_CYCLE_LR_TOTAL_STEPS\": 40,\n",
    "    \"ONE_CYCLE_LR_EPOCHS\": 40,\n",
    "    \"STEP_SIZE_UP\": 4,\n",
    "    \"EXPR_DISCRETIZATION_METHOD\": \"Direct_quantile\",\n",
    "    \"TRAINING_SET_FRACTION\": 0.9,\n",
    "    \"GRADIENT_ACCUMULATION_STEPS\": 5,\n",
    "    \"OPTIMIZER\": \"AdamW\",\n",
    "    \"ADAMW_WEIGHT_DECAY\": 0.01,\n",
    "    \"LOSS_FN\": \"MSE\",\n",
    "    \"SCHEDULER\": \"OneCycleLR\",\n",
    "    \"SAVE_CHECK_POINT_BY_BATCHES\": False,\n",
    "    \"FRACTION_OF_SAMPLES_TO_BE_FAKE\": 0.5, \n",
    "    \"FRACTION_OF_GENES_TO_HAVE_RANDOM_EXPR\": 0.3,\n",
    "    \"SPECIFIED_PRETRAIN_MODEL_CHECKPOINT_PATH\": None\n",
    "}\n",
    "class params:\n",
    "    def __init__(self):\n",
    "        self.init_obj()\n",
    "\n",
    "    def init_obj(self): \n",
    "        self.json_file = os.environ.get(\"PARAM_JSON_FILE\")\n",
    "        self.default_values = default_values\n",
    "        try:\n",
    "            with open(self.json_file, 'r') as file:\n",
    "                self.data = json.load(file)\n",
    "        except FileNotFoundError:\n",
    "            raise FileNotFoundError(f\"The JSON file '{self.json_file}' does not exist.\")\n",
    "        except json.JSONDecodeError:\n",
    "            raise ValueError(f\"The JSON file '{self.json_file}' is not valid JSON.\")     \n",
    "\n",
    "    def __getattr__(self, item):\n",
    "        param_json_file = os.environ.get(\"PARAM_JSON_FILE\")\n",
    "        print(f\"in params, getting {item}, param_json_file is {param_json_file}\")\n",
    "        self.init_obj()\n",
    "        if self.data is None:\n",
    "            self.data = {}\n",
    "        if item in self.default_values:\n",
    "            ret_val = self.default_values.get(item)\n",
    "        if item in self.data:\n",
    "            ret_val = self.data.get(item)\n",
    "            \n",
    "        if item in self.default_values and item in self.data and (self.default_values.get(item) != self.data.get(item)):\n",
    "            print(f\"Using value of {ret_val} for {item}, which is different from default value of {self.default_values.get(item)}.\")\n",
    "\n",
    "        if item in self.default_values and item not in self.data:\n",
    "            print(f\"Using default value of {ret_val} for {item}.\")  \n",
    "        return ret_val\n",
    "        "
   ]
  },
  {
   "cell_type": "code",
   "execution_count": 3,
   "id": "76e3482d-6a44-42ab-b2a3-33283614b7f8",
   "metadata": {},
   "outputs": [],
   "source": [
    "p = params()"
   ]
  },
  {
   "cell_type": "code",
   "execution_count": 4,
   "id": "d917e371-931b-4f38-99a7-d5fdaec6c6f3",
   "metadata": {},
   "outputs": [
    {
     "name": "stdout",
     "output_type": "stream",
     "text": [
      "Using value of GPT for TRANSFORMER_MODEL_NAME, which is different from default value of Bert.\n"
     ]
    },
    {
     "data": {
      "text/plain": [
       "'GPT'"
      ]
     },
     "execution_count": 4,
     "metadata": {},
     "output_type": "execute_result"
    }
   ],
   "source": [
    "p.TRANSFORMER_MODEL_NAME"
   ]
  },
  {
   "cell_type": "code",
   "execution_count": 7,
   "id": "64ca694e-b73c-4d15-967e-edaa9f264206",
   "metadata": {},
   "outputs": [
    {
     "name": "stdout",
     "output_type": "stream",
     "text": [
      "Using value of GPT for TRANSFORMER_MODEL_NAME, which is different from default value of Bert.\n",
      "Using value of 2048 for NUM_OF_GENES_SELECTED, which is different from default value of -1.\n"
     ]
    },
    {
     "data": {
      "text/plain": [
       "2048"
      ]
     },
     "execution_count": 7,
     "metadata": {},
     "output_type": "execute_result"
    }
   ],
   "source": [
    "m_param_json_file = \"/g/data/yr31/zs2131/tasks/2023/RNA_expr_net/anal_mouse/training/exp16/exp16_hm_BERT_coding.param_config.json\"\n",
    "m_param_json_file = \"/g/data/yr31/zs2131/tasks/2023/RNA_expr_net/anal/training/exp_code_cleaning/expc46c_GPT_coding_lncrna.param_config.json\"\n",
    "os.environ[\"PARAM_JSON_FILE\"] = m_param_json_file\n",
    "p.TRANSFORMER_MODEL_NAME\n",
    "p.NUM_OF_GENES_SELECTED"
   ]
  },
  {
   "cell_type": "code",
   "execution_count": null,
   "id": "227a8445-0815-420a-8e2d-565e54858496",
   "metadata": {},
   "outputs": [],
   "source": [
    "p.TRANSFORMER_MODEL_NAME"
   ]
  },
  {
   "cell_type": "code",
   "execution_count": null,
   "id": "89dd36bd-c47a-4138-bdd7-8375271945c7",
   "metadata": {},
   "outputs": [],
   "source": [
    "print(p.NUM_OF_GENES_SELECTED)"
   ]
  }
 ],
 "metadata": {
  "kernelspec": {
   "display_name": "Python 3 (ipykernel)",
   "language": "python",
   "name": "python3"
  },
  "language_info": {
   "codemirror_mode": {
    "name": "ipython",
    "version": 3
   },
   "file_extension": ".py",
   "mimetype": "text/x-python",
   "name": "python",
   "nbconvert_exporter": "python",
   "pygments_lexer": "ipython3",
   "version": "3.11.0"
  }
 },
 "nbformat": 4,
 "nbformat_minor": 5
}
