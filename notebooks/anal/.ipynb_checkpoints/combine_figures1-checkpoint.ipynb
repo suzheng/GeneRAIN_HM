{
 "cells": [
  {
   "cell_type": "code",
   "execution_count": 1,
   "id": "7094608b-ac2a-4129-a745-61b0f3bab2d5",
   "metadata": {},
   "outputs": [
    {
     "name": "stdout",
     "output_type": "stream",
     "text": [
      "Using mouse project folder: /g/data/yr31/zs2131/tasks/2023/RNA_expr_net/GeneRAIN_Mouse\n"
     ]
    }
   ],
   "source": [
    "import os\n",
    "import glob\n",
    "import csv\n",
    "from utils.utils import get_config\n",
    "import re\n",
    "import numpy as np\n",
    "# Set the directory where your CSV files are located\n",
    "import pandas as pd\n",
    "import pickle\n",
    "import seaborn as sns\n",
    "import matplotlib.pyplot as plt\n",
    "import pandas as pd\n",
    "os.environ['SPECIES'] = \"Mouse\"\n",
    "from eval.visual_utils import Naming_Json\n",
    "njson = Naming_Json()"
   ]
  },
  {
   "cell_type": "code",
   "execution_count": 2,
   "id": "a1076ddb-028f-4d8d-a8d6-fd8ce05df523",
   "metadata": {},
   "outputs": [
    {
     "name": "stdout",
     "output_type": "stream",
     "text": [
      "Using mouse project folder: /g/data/yr31/zs2131/tasks/2023/RNA_expr_net/GeneRAIN_Mouse\n"
     ]
    }
   ],
   "source": [
    "import glob\n",
    "config = get_config()\n",
    "fig_res_dir = f\"{config.proj_path}/results/figures_tables/\"\n",
    "output_dir = f\"{config.proj_path}/results/figures_tables/combined_figures\"\n",
    "os.chdir(output_dir)"
   ]
  },
  {
   "cell_type": "code",
   "execution_count": 3,
   "id": "3a1f2e69-1811-40ab-aa10-73a901810651",
   "metadata": {},
   "outputs": [],
   "source": [
    "import PyPDF2"
   ]
  },
  {
   "cell_type": "code",
   "execution_count": 4,
   "id": "763d1ec3-b8d7-474e-a385-4b21d1a3c711",
   "metadata": {},
   "outputs": [],
   "source": [
    "import fitz  # PyMuPDF\n",
    "\n",
    "import os\n",
    "import datetime\n",
    "\n",
    "def print_file_modification_date(file_path):\n",
    "    try:\n",
    "        # Get the last modification time\n",
    "        mod_time = os.path.getmtime(file_path)\n",
    "        \n",
    "        # Convert it to a datetime object\n",
    "        mod_datetime = datetime.datetime.fromtimestamp(mod_time)\n",
    "\n",
    "        # Print it in a human-readable format\n",
    "        print(f\"Last modified at {mod_datetime}:'{file_path}'\")\n",
    "    except FileNotFoundError:\n",
    "        print(f\"File '{file_path}' not found.\")\n",
    "        \n",
    "def combine_pdf_figures(pdf_paths, output_pdf, labels, cols_per_row, row_gap=2):\n",
    "    for pdf_path in pdf_paths:\n",
    "        print_file_modification_date(pdf_path)\n",
    "    doc = fitz.open()  # Create a new PDF\n",
    "\n",
    "    # Dictionaries to hold row-wise information\n",
    "    row_pdfs = {}  # {row_index: [pdf_paths]}\n",
    "    row_widths = {}  # {row_index: total_width}\n",
    "    row_heights = {}  # {row_index: max_height}\n",
    "\n",
    "    # Organize PDFs into rows and calculate dimensions for each row\n",
    "    current_index = 0\n",
    "    for row_index, num_cols in enumerate(cols_per_row):\n",
    "        row_pdfs[row_index] = []\n",
    "        row_widths[row_index] = 0\n",
    "        row_heights[row_index] = 0\n",
    "\n",
    "        for _ in range(num_cols):\n",
    "            if current_index >= len(pdf_paths):\n",
    "                break\n",
    "            pdf_path = pdf_paths[current_index]\n",
    "            row_pdfs[row_index].append(pdf_path)\n",
    "            with fitz.open(pdf_path) as src_doc:\n",
    "                src_page = src_doc[0]\n",
    "                row_widths[row_index] += src_page.rect.width\n",
    "                row_heights[row_index] = max(row_heights[row_index], src_page.rect.height)+row_gap\n",
    "            current_index += 1\n",
    "    # print(row_widths)\n",
    "    # print(row_heights)\n",
    "    # Calculate overall page dimensions\n",
    "    page_width = max(row_widths.values())\n",
    "    page_height = sum(row_heights.values())\n",
    "\n",
    "    # Create a new page in the output document\n",
    "    page = doc.new_page(width=page_width, height=page_height)\n",
    "\n",
    "    # Place each PDF figure on the combined page\n",
    "    current_y = 0\n",
    "    label_idx = 0\n",
    "    for row_index in row_pdfs:\n",
    "        current_x = 0\n",
    "        for pdf_index, pdf_path in enumerate(row_pdfs[row_index]):\n",
    "            with fitz.open(pdf_path) as src_doc:\n",
    "                src_page = src_doc[0]\n",
    "                rect = fitz.Rect(current_x, current_y, current_x + src_page.rect.width, current_y + src_page.rect.height)\n",
    "                page.show_pdf_page(rect, src_doc, 0)\n",
    "\n",
    "                # Add label\n",
    "                label_x, label_y = current_x + 5, current_y + 9  # Adjust label position\n",
    "                page.insert_text((label_x, label_y), labels[label_idx], fontsize=10, fontname=\"Helvetica-Bold\") #helv\n",
    "\n",
    "                # Update current_x for the next figure in the row\n",
    "                current_x += src_page.rect.width\n",
    "            label_idx += 1\n",
    "        # Update current_y for the next row\n",
    "        current_y += row_heights[row_index]+row_gap\n",
    "\n",
    "    # Save the combined PDF\n",
    "    doc.save(output_pdf)\n",
    "    doc.close()\n",
    "\n",
    "\n",
    "\n",
    "\n"
   ]
  },
  {
   "cell_type": "code",
   "execution_count": 5,
   "id": "b920ea3e-a931-4f62-8f6e-34a0d7d5cdfb",
   "metadata": {},
   "outputs": [],
   "source": [
    "labels = [\"a\", \"b\", \"c\", \"d\", \"e\", \"f\", \"g\", \"h\", \"i\", \"j\", \"k\", \"l\"]  # Corresponding labels"
   ]
  },
  {
   "cell_type": "code",
   "execution_count": 6,
   "id": "2ad6aa93-8ff1-4725-82ed-b3c3c316e524",
   "metadata": {},
   "outputs": [
    {
     "name": "stdout",
     "output_type": "stream",
     "text": [
      "Last modified at 2024-01-21 14:29:22:'../schematic/model_schematic_actual_size-my.pdf'\n",
      "Last modified at 2024-01-21 14:29:29:'../schematic/model_schematic_actual_size-my_2.pdf'\n",
      "Last modified at 2024-01-21 14:29:35:'../schematic/model_schematic_actual_size-my_3.pdf'\n",
      "Last modified at 2024-01-14 08:41:40:'../../anal/exp6_hm_GPT_coding/exp6_hm_GPT_coding.epoch40.prio_to_MUSE.MUSE_emb_PCA.pdf'\n",
      "Last modified at 2024-01-13 20:58:02:'../emb_pcas/gpt_merged.pdf'\n",
      "Last modified at 2024-01-13 20:59:06:'../../anal/exp6_hm_GPT_coding/exp6_hm_GPT_coding.epoch40.full_supervised/after_MUSE.MUSE_emb_PCA.pdf'\n",
      "Last modified at 2024-01-25 15:09:58:'../emb_cmp_exps/anchor_unspv_spv.hist.pdf'\n",
      "Last modified at 2024-01-25 15:10:13:'../emb_cmp_exps/gpt_muse_vs_anchor_no_muse.scatter.pdf'\n"
     ]
    }
   ],
   "source": [
    "# Example usage\n",
    "pdf_files = [\"../schematic/model_schematic_actual_size-my.pdf\",\n",
    "             \"../schematic/model_schematic_actual_size-my_2.pdf\",\n",
    "             \"../schematic/model_schematic_actual_size-my_3.pdf\",\n",
    "             \"../../anal/exp6_hm_GPT_coding/exp6_hm_GPT_coding.epoch40.prio_to_MUSE.MUSE_emb_PCA.pdf\", \n",
    "             \"../emb_pcas/gpt_merged.pdf\", \n",
    "             \"../../anal/exp6_hm_GPT_coding/exp6_hm_GPT_coding.epoch40.full_supervised/after_MUSE.MUSE_emb_PCA.pdf\",\n",
    "             \"../emb_cmp_exps/anchor_unspv_spv.hist.pdf\",\n",
    "             \"../emb_cmp_exps/supervised_vs_unsupervised.scatter.pdf\",\n",
    "            ]\n",
    "\n",
    "cols_per_row = [3,3,2,2]  # Define layout: 3 PDFs in the first row, 1 in the second row\n",
    "\n",
    "combine_pdf_figures(pdf_files, \"Fig1.PCA_and_hist.pdf\", labels, cols_per_row)"
   ]
  },
  {
   "cell_type": "code",
   "execution_count": 7,
   "id": "23574e88-000e-4850-8430-31f1b6a16232",
   "metadata": {},
   "outputs": [
    {
     "name": "stdout",
     "output_type": "stream",
     "text": [
      "Last modified at 2024-01-25 15:09:59:'../emb_cmp_exps/gpt_muse_anchored_vs_no_anchor.hist.pdf'\n",
      "Last modified at 2024-01-25 15:10:05:'../emb_cmp_exps/gpt_muse_anchored_vs_no_anchor.scatter.pdf'\n",
      "Last modified at 2024-01-25 15:09:40:'../emb_cmp_exps/pseudo_nh.hist.pdf'\n",
      "Last modified at 2024-01-25 15:09:39:'../emb_cmp_exps/random_emb.hist.pdf'\n",
      "Last modified at 2024-01-25 15:09:37:'../emb_cmp_exps/top_k_vs_subsampled_supervision.lines.pdf'\n",
      "Last modified at 2024-01-25 15:09:38:'../emb_cmp_exps/top_k_vs_epochs.lines.pdf'\n"
     ]
    }
   ],
   "source": [
    "# Example usage\n",
    "pdf_files = [\n",
    "             \"../emb_cmp_exps/gpt_muse_anchored_vs_no_anchor.hist.pdf\",\n",
    "             \"../emb_cmp_exps/gpt_muse_anchored_vs_no_anchor.scatter.pdf\",\n",
    "             \"../emb_cmp_exps/pseudo_nh.hist.pdf\",\n",
    "             \"../emb_cmp_exps/random_emb.hist.pdf\",\n",
    "             \"../emb_cmp_exps/top_k_vs_subsampled_supervision.lines.pdf\",\n",
    "             \"../emb_cmp_exps/top_k_vs_epochs.lines.pdf\"\n",
    "            ]\n",
    "\n",
    "cols_per_row = [2,2,2]  # Define layout: 3 PDFs in the first row, 1 in the second row\n",
    "\n",
    "combine_pdf_figures(pdf_files, \"Fig2.quality_of_alignment.pdf\", labels, cols_per_row)"
   ]
  },
  {
   "cell_type": "code",
   "execution_count": 8,
   "id": "fcf4932a-f503-4d12-a548-2aa01cad6c8e",
   "metadata": {},
   "outputs": [
    {
     "name": "stdout",
     "output_type": "stream",
     "text": [
      "Last modified at 2024-01-25 15:09:51:'../emb_cmp_exps/bert_vs_gpt.hist.pdf'\n",
      "Last modified at 2024-01-25 15:09:57:'../emb_cmp_exps/bert_vs_gpt.scatter.pdf'\n",
      "Last modified at 2024-01-25 15:09:41:'../emb_cmp_exps/emb_without_mixed_training.hist.pdf'\n",
      "Last modified at 2024-01-25 15:09:49:'../emb_cmp_exps/emb_without_mixed_training.scatter.pdf'\n"
     ]
    }
   ],
   "source": [
    "pdf_files = [\"../emb_cmp_exps/bert_vs_gpt.hist.pdf\", \n",
    "             \"../emb_cmp_exps/bert_vs_gpt.scatter.pdf\",\n",
    "     \"../emb_cmp_exps/emb_without_mixed_training.hist.pdf\", \n",
    "    \"../emb_cmp_exps/emb_without_mixed_training.scatter.pdf\",    \n",
    "        ]\n",
    "\n",
    "cols_per_row = [2,2]  # Define layout: 3 PDFs in the first row, 1 in the second row\n",
    "\n",
    "combine_pdf_figures(pdf_files, \"ED_Fig4.bert_vs_gpt.without_mixed_training.pdf\", labels, cols_per_row)"
   ]
  },
  {
   "cell_type": "code",
   "execution_count": 9,
   "id": "390c36ea-17b4-43e2-a45b-ae17ce531e16",
   "metadata": {},
   "outputs": [
    {
     "name": "stdout",
     "output_type": "stream",
     "text": [
      "Last modified at 2024-01-14 08:42:41:'../../anal/exp6_hm_GPT_coding/exp6_hm_GPT_coding.eval_epoch.epoch1.prio_to_MUSE.MUSE_emb_PCA.pdf'\n",
      "Last modified at 2024-01-14 08:43:03:'../../anal/exp6_hm_GPT_coding/exp6_hm_GPT_coding.eval_epoch.epoch3.prio_to_MUSE.MUSE_emb_PCA.pdf'\n",
      "Last modified at 2024-01-14 08:43:26:'../../anal/exp6_hm_GPT_coding/exp6_hm_GPT_coding.eval_epoch.epoch5.prio_to_MUSE.MUSE_emb_PCA.pdf'\n",
      "Last modified at 2024-01-14 08:43:58:'../../anal/exp6_hm_GPT_coding/exp6_hm_GPT_coding.eval_epoch.epoch10.prio_to_MUSE.MUSE_emb_PCA.pdf'\n",
      "Last modified at 2024-01-14 08:44:21:'../../anal/exp6_hm_GPT_coding/exp6_hm_GPT_coding.eval_epoch.epoch15.prio_to_MUSE.MUSE_emb_PCA.pdf'\n",
      "Last modified at 2024-01-14 08:44:43:'../../anal/exp6_hm_GPT_coding/exp6_hm_GPT_coding.eval_epoch.epoch20.prio_to_MUSE.MUSE_emb_PCA.pdf'\n",
      "Last modified at 2024-01-14 08:45:05:'../../anal/exp6_hm_GPT_coding/exp6_hm_GPT_coding.eval_epoch.epoch30.prio_to_MUSE.MUSE_emb_PCA.pdf'\n",
      "Last modified at 2024-01-14 08:45:29:'../../anal/exp6_hm_GPT_coding/exp6_hm_GPT_coding.eval_epoch.epoch40.prio_to_MUSE.MUSE_emb_PCA.pdf'\n"
     ]
    }
   ],
   "source": [
    "pdf_files = [\n",
    "\"../../anal/exp6_hm_GPT_coding/exp6_hm_GPT_coding.eval_epoch.epoch1.prio_to_MUSE.MUSE_emb_PCA.pdf\",\n",
    "\"../../anal/exp6_hm_GPT_coding/exp6_hm_GPT_coding.eval_epoch.epoch3.prio_to_MUSE.MUSE_emb_PCA.pdf\",\n",
    "\"../../anal/exp6_hm_GPT_coding/exp6_hm_GPT_coding.eval_epoch.epoch5.prio_to_MUSE.MUSE_emb_PCA.pdf\",\n",
    "\"../../anal/exp6_hm_GPT_coding/exp6_hm_GPT_coding.eval_epoch.epoch10.prio_to_MUSE.MUSE_emb_PCA.pdf\",\n",
    "\"../../anal/exp6_hm_GPT_coding/exp6_hm_GPT_coding.eval_epoch.epoch15.prio_to_MUSE.MUSE_emb_PCA.pdf\",\n",
    "\"../../anal/exp6_hm_GPT_coding/exp6_hm_GPT_coding.eval_epoch.epoch20.prio_to_MUSE.MUSE_emb_PCA.pdf\",\n",
    "\"../../anal/exp6_hm_GPT_coding/exp6_hm_GPT_coding.eval_epoch.epoch30.prio_to_MUSE.MUSE_emb_PCA.pdf\",\n",
    "\"../../anal/exp6_hm_GPT_coding/exp6_hm_GPT_coding.eval_epoch.epoch40.prio_to_MUSE.MUSE_emb_PCA.pdf\",\n",
    "]\n",
    "cols_per_row = [3,3,3]  # Define layout: 3 PDFs in the first row, 1 in the second row\n",
    "\n",
    "combine_pdf_figures(pdf_files, \"ED_Fig2.PCA_epochs.pdf\", labels, cols_per_row)"
   ]
  },
  {
   "cell_type": "code",
   "execution_count": 10,
   "id": "06eef852-3f4e-4835-9a6a-3f5ed755f9bd",
   "metadata": {},
   "outputs": [
    {
     "name": "stdout",
     "output_type": "stream",
     "text": [
      "Last modified at 2024-01-25 15:26:30:'../emb_cmp_exps/hm_vs_mh_rank_homolog.hist.pdf'\n",
      "Last modified at 2024-01-25 15:26:36:'../emb_cmp_exps/hm_vs_mh_rank_homolog.scatter.pdf'\n"
     ]
    }
   ],
   "source": [
    "pdf_files = [\n",
    "\"../emb_cmp_exps/hm_vs_mh_rank_homolog.hist.pdf\",\n",
    "\"../emb_cmp_exps/hm_vs_mh_rank_homolog.scatter.pdf\",\n",
    "\"../emb_cmp_exps/gpt_muse_vs_anchor_no_muse.scatter.pdf\",\n",
    "]\n",
    "cols_per_row = [2,1]  # Define layout: 3 PDFs in the first row, 1 in the second row\n",
    "\n",
    "combine_pdf_figures(pdf_files, \"ED_Fig3.hm_vs_mh_rank.pdf\", labels, cols_per_row)"
   ]
  },
  {
   "cell_type": "code",
   "execution_count": 11,
   "id": "7c021b3e-d171-4f3b-8fa7-a96345e69cdb",
   "metadata": {},
   "outputs": [],
   "source": [
    "# pdf_files = [\n",
    "# \"\",\n",
    "# ]\n",
    "# cols_per_row = [1]  # Define layout: 3 PDFs in the first row, 1 in the second row\n",
    "\n",
    "# combine_pdf_figures(pdf_files, \"ED_Fig.coding_vs_coding_lncRNA_pseudo.scatter.pdf\", labels, cols_per_row)"
   ]
  },
  {
   "cell_type": "code",
   "execution_count": 12,
   "id": "142a2c06-2628-42f2-a931-8107e9d3d59f",
   "metadata": {},
   "outputs": [
    {
     "name": "stdout",
     "output_type": "stream",
     "text": [
      "Last modified at 2024-01-19 16:27:37:'../loss_vs_epochs/Loss.exp6_hm_GPT_coding.epoch.pdf'\n",
      "Last modified at 2024-01-19 16:27:37:'../loss_vs_epochs/Loss.exp16_hm_BERT_coding.epoch.pdf'\n",
      "Last modified at 2024-01-19 16:27:38:'../loss_vs_epochs/Loss.exp30_GPT_hm_merge0_coding.epoch.pdf'\n",
      "Last modified at 2024-01-19 16:27:39:'../loss_vs_epochs/Loss.exp1_mouse_GPT_coding.epoch.pdf'\n",
      "Last modified at 2024-01-19 16:27:38:'../loss_vs_epochs/Loss.exp10_hm_GPT_coding_lncRNA_pseudo.epoch.pdf'\n"
     ]
    }
   ],
   "source": [
    "pdf_files = [\n",
    "\"../loss_vs_epochs/Loss.exp6_hm_GPT_coding.epoch.pdf\",\n",
    "\"../loss_vs_epochs/Loss.exp16_hm_BERT_coding.epoch.pdf\",\n",
    "\"../loss_vs_epochs/Loss.exp30_GPT_hm_merge0_coding.epoch.pdf\",\n",
    "\"../loss_vs_epochs/Loss.exp1_mouse_GPT_coding.epoch.pdf\",\n",
    "\"../loss_vs_epochs/Loss.exp10_hm_GPT_coding_lncRNA_pseudo.epoch.pdf\",    \n",
    "    \n",
    "]\n",
    "cols_per_row = [2,2,1]  # Define layout: 3 PDFs in the first row, 1 in the second row\n",
    "\n",
    "combine_pdf_figures(pdf_files, \"ED_Fig1.loss_vs_epochs.pdf\", labels, cols_per_row)"
   ]
  },
  {
   "cell_type": "code",
   "execution_count": 13,
   "id": "4f5b81ab-7b45-4a73-a102-6f7d23109b8e",
   "metadata": {},
   "outputs": [
    {
     "name": "stdout",
     "output_type": "stream",
     "text": [
      "Last modified at 2024-01-25 15:26:26:'../dna/boxplot.cds.DNA_alignment_score.pdf'\n",
      "Last modified at 2024-01-25 15:24:56:'../dna/boxplot.promoter_upstream_1kb.DNA_alignment_score.pdf'\n",
      "Last modified at 2024-01-25 15:25:52:'../dna/boxplot.downstream_1kb.DNA_alignment_score.pdf'\n",
      "Last modified at 2024-01-25 15:26:26:'../dna/boxplot.cds.Num_of_transcripts_in_human.pdf'\n",
      "Last modified at 2024-01-25 15:26:27:'../dna/boxplot.cds.GC_content_in_human____.pdf'\n",
      "Last modified at 2024-01-25 15:26:28:'../dna/boxplot.cds.Mean_CDS_length_in_human__bp_.pdf'\n"
     ]
    }
   ],
   "source": [
    "\n",
    "# Example usage\n",
    "pdf_files = [\"../dna/boxplot.cds.DNA_alignment_score.pdf\",\n",
    "             \"../dna/boxplot.promoter_upstream_1kb.DNA_alignment_score.pdf\",\n",
    "             \"../dna/boxplot.downstream_1kb.DNA_alignment_score.pdf\",\n",
    "             \"../dna/boxplot.cds.Num_of_transcripts_in_human.pdf\",\n",
    "             \"../dna/boxplot.cds.GC_content_in_human____.pdf\",\n",
    "             \"../dna/boxplot.cds.Mean_CDS_length_in_human__bp_.pdf\"\n",
    "            ]\n",
    "\n",
    "cols_per_row = [3,3]  # Define layout: 3 PDFs in the first row, 1 in the second row\n",
    "\n",
    "combine_pdf_figures(pdf_files, \"Fig3.dna.pdf\", labels, cols_per_row)"
   ]
  },
  {
   "cell_type": "code",
   "execution_count": 14,
   "id": "3cf86b7a-cd18-4715-9e2f-6c7729d4e1e9",
   "metadata": {},
   "outputs": [
    {
     "name": "stdout",
     "output_type": "stream",
     "text": [
      "Last modified at 2024-01-25 15:26:26:'../dna/boxplot.cds.Mean_transcript_alignment_score.pdf'\n",
      "Last modified at 2024-01-25 15:24:58:'../dna/boxplot.promoter_upstream_1kb.Mean_transcript_alignment_score.pdf'\n",
      "Last modified at 2024-01-25 15:25:53:'../dna/boxplot.downstream_1kb.Mean_transcript_alignment_score.pdf'\n",
      "Last modified at 2024-01-25 15:26:27:'../dna/boxplot.cds.Num_of_transcripts_in_mouse.pdf'\n",
      "Last modified at 2024-01-25 15:26:25:'../dna/boxplot.cds.emb_simi_vs_txn_n_random_gene_pairs.pdf'\n",
      "Last modified at 2024-01-25 15:26:29:'../dna/boxplot.cds.Mean_CDS_length_in_mouse__bp_.pdf'\n"
     ]
    }
   ],
   "source": [
    "\n",
    "# Example usage\n",
    "pdf_files = [\"../dna/boxplot.cds.Mean_transcript_alignment_score.pdf\",\n",
    "             \"../dna/boxplot.promoter_upstream_1kb.Mean_transcript_alignment_score.pdf\",\n",
    "             \"../dna/boxplot.downstream_1kb.Mean_transcript_alignment_score.pdf\",\n",
    "             \"../dna/boxplot.cds.Num_of_transcripts_in_mouse.pdf\",\n",
    "             \"../dna/boxplot.cds.emb_simi_vs_txn_n_random_gene_pairs.pdf\",\n",
    "             \"../dna/boxplot.cds.Mean_CDS_length_in_mouse__bp_.pdf\",\n",
    "             \n",
    "            ]\n",
    "\n",
    "cols_per_row = [3,3]  # Define layout: 3 PDFs in the first row, 1 in the second row\n",
    "\n",
    "combine_pdf_figures(pdf_files, \"ED_Fig5.dna.pdf\", labels, cols_per_row)"
   ]
  },
  {
   "cell_type": "code",
   "execution_count": 15,
   "id": "f1102749-e88e-4afd-89f6-b583c0f8e3b9",
   "metadata": {},
   "outputs": [
    {
     "name": "stdout",
     "output_type": "stream",
     "text": [
      "Last modified at 2024-01-25 15:26:28:'../dna/boxplot.cds.GC_content_in_mouse____.pdf'\n",
      "Last modified at 2024-01-25 15:25:02:'../dna/boxplot.promoter_upstream_1kb.GC_content_in_human____.pdf'\n",
      "Last modified at 2024-01-25 15:25:03:'../dna/boxplot.promoter_upstream_1kb.GC_content_in_mouse____.pdf'\n",
      "Last modified at 2024-01-25 15:25:56:'../dna/boxplot.downstream_1kb.GC_content_in_human____.pdf'\n",
      "Last modified at 2024-01-25 15:25:57:'../dna/boxplot.downstream_1kb.GC_content_in_mouse____.pdf'\n"
     ]
    }
   ],
   "source": [
    "# Example usage\n",
    "pdf_files = [\n",
    "             \"../dna/boxplot.cds.GC_content_in_mouse____.pdf\",\n",
    "             \"../dna/boxplot.promoter_upstream_1kb.GC_content_in_human____.pdf\",\n",
    "             \"../dna/boxplot.promoter_upstream_1kb.GC_content_in_mouse____.pdf\",\n",
    "             \"../dna/boxplot.downstream_1kb.GC_content_in_human____.pdf\",\n",
    "             \"../dna/boxplot.downstream_1kb.GC_content_in_mouse____.pdf\",\n",
    "            ]\n",
    "\n",
    "cols_per_row = [3,3]  # Define layout: 3 PDFs in the first row, 1 in the second row\n",
    "\n",
    "combine_pdf_figures(pdf_files, \"ED_Fig6.GC_content.pdf\", labels, cols_per_row)"
   ]
  },
  {
   "cell_type": "code",
   "execution_count": 16,
   "id": "cfd6c0a1-b9cb-403e-a32f-9d2f585e6d83",
   "metadata": {},
   "outputs": [
    {
     "name": "stdout",
     "output_type": "stream",
     "text": [
      "Last modified at 2024-01-25 15:26:21:'../pheno/DNA_RNA_simi.HMD_HumanPhenotype_num.ecdf.pdf'\n",
      "Last modified at 2024-01-25 15:26:24:'../pheno/DNA_RNA_simi.MGI_DiseaseGeneModel_shared.barplot.pdf'\n",
      "Last modified at 2024-01-25 15:26:23:'../pheno/DNA_RNA_simi.alliance_disease_filt2.barplot.pdf'\n",
      "Last modified at 2024-01-25 15:11:27:'../emb_cmp_exps/coding_vs_coding_lncRNA_pseudo.scatter.pdf'\n",
      "Last modified at 2024-01-25 15:11:05:'../lncRNA/simi_across_gene_classes.boxplot.pdf'\n"
     ]
    }
   ],
   "source": [
    "# Example usage\n",
    "pdf_files = [\"../pheno/DNA_RNA_simi.HMD_HumanPhenotype_num.ecdf.pdf\",\n",
    "             \"../pheno/DNA_RNA_simi.MGI_DiseaseGeneModel_shared.barplot.pdf\",\n",
    "             \"../pheno/DNA_RNA_simi.alliance_disease_filt2.barplot.pdf\",\n",
    "             \"../emb_cmp_exps/coding_vs_coding_lncRNA_pseudo.scatter.pdf\",\n",
    "             \"../lncRNA/simi_across_gene_classes.boxplot.pdf\"\n",
    "            ]\n",
    "\n",
    "cols_per_row = [3,2]  # Define layout: 3 PDFs in the first row, 1 in the second row\n",
    "\n",
    "combine_pdf_figures(pdf_files, \"Fig4.pheno_assoc.pdf\", labels, cols_per_row)"
   ]
  },
  {
   "cell_type": "code",
   "execution_count": null,
   "id": "aa7a6b60-931c-4423-ac17-b413d4a33659",
   "metadata": {},
   "outputs": [],
   "source": []
  },
  {
   "cell_type": "code",
   "execution_count": 17,
   "id": "8b815784-a75e-4baa-9e2e-b67a3bb4e011",
   "metadata": {},
   "outputs": [
    {
     "name": "stdout",
     "output_type": "stream",
     "text": [
      "Last modified at 2024-01-25 15:26:24:'../pheno/DNA_RNA_simi.HMD_HumanPhenotype_bool.barplot.pdf'\n",
      "Last modified at 2024-01-25 15:26:21:'../pheno/DNA_RNA_simi.MGI_DiseaseGeneModel.boxplot.pdf'\n",
      "Last modified at 2024-01-25 15:26:22:'../pheno/DNA_RNA_simi.alliance_disease_shared_num_filt2.boxplot.pdf'\n"
     ]
    }
   ],
   "source": [
    "# Example usage\n",
    "pdf_files = [\"../pheno/DNA_RNA_simi.HMD_HumanPhenotype_bool.barplot.pdf\",\n",
    "             \"../pheno/DNA_RNA_simi.MGI_DiseaseGeneModel.boxplot.pdf\",\n",
    "             \"../pheno/DNA_RNA_simi.alliance_disease_shared_num_filt2.boxplot.pdf\"\n",
    "            ]\n",
    "\n",
    "cols_per_row = [3,3]  # Define layout: 3 PDFs in the first row, 1 in the second row\n",
    "\n",
    "combine_pdf_figures(pdf_files, \"ED_Fig7.pheno_assoc.pdf\", labels, cols_per_row)"
   ]
  },
  {
   "cell_type": "code",
   "execution_count": null,
   "id": "b7959ae9-288c-416f-9411-b2d020b26e61",
   "metadata": {},
   "outputs": [],
   "source": []
  },
  {
   "cell_type": "code",
   "execution_count": null,
   "id": "499c21fc-aa3a-40dc-9cf2-4e5aeaee6f1b",
   "metadata": {},
   "outputs": [],
   "source": []
  },
  {
   "cell_type": "code",
   "execution_count": null,
   "id": "f1ee8686-c5e3-4000-9157-7ea28fd74d33",
   "metadata": {},
   "outputs": [],
   "source": []
  },
  {
   "cell_type": "code",
   "execution_count": null,
   "id": "95848fba-ee12-43a0-a930-c95818c817a0",
   "metadata": {},
   "outputs": [],
   "source": []
  },
  {
   "cell_type": "code",
   "execution_count": null,
   "id": "539586df-13d4-4a1d-8712-1f46f2c7ad98",
   "metadata": {},
   "outputs": [],
   "source": []
  },
  {
   "cell_type": "code",
   "execution_count": null,
   "id": "23a95207-0ab4-4ec3-b734-1554de410e4c",
   "metadata": {},
   "outputs": [],
   "source": []
  },
  {
   "cell_type": "code",
   "execution_count": null,
   "id": "576010fc-581d-4627-8540-f3f446a2ec95",
   "metadata": {},
   "outputs": [],
   "source": []
  },
  {
   "cell_type": "code",
   "execution_count": null,
   "id": "6e369239-3bb9-4c22-b286-56535db12b9a",
   "metadata": {},
   "outputs": [],
   "source": []
  }
 ],
 "metadata": {
  "kernelspec": {
   "display_name": "Python 3 (ipykernel)",
   "language": "python",
   "name": "python3"
  },
  "language_info": {
   "codemirror_mode": {
    "name": "ipython",
    "version": 3
   },
   "file_extension": ".py",
   "mimetype": "text/x-python",
   "name": "python",
   "nbconvert_exporter": "python",
   "pygments_lexer": "ipython3",
   "version": "3.11.0"
  }
 },
 "nbformat": 4,
 "nbformat_minor": 5
}
