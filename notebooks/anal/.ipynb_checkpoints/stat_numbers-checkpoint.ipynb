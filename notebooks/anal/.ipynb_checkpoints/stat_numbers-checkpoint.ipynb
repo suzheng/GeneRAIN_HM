{
 "cells": [
  {
   "cell_type": "code",
   "execution_count": 3,
   "id": "ca3370c7-32c0-444f-b6c5-7171ebdf493b",
   "metadata": {},
   "outputs": [
    {
     "name": "stdout",
     "output_type": "stream",
     "text": [
      "Using mouse project folder: /g/data/yr31/zs2131/tasks/2023/RNA_expr_net/GeneRAIN_Mouse\n",
      "Using mouse project folder: /g/data/yr31/zs2131/tasks/2023/RNA_expr_net/GeneRAIN_Mouse\n"
     ]
    }
   ],
   "source": [
    "import os\n",
    "\n",
    "os.environ['SPECIES'] = \"Mouse\"\n",
    "from eval.visual_utils import (get_naming_dict, filter_dataframe, FigureStyle, pval2stars, Naming_Json, export_to_excel)\n",
    "njson = Naming_Json()\n",
    "exp = njson.exp\n",
    "exp_short = exp.split(\"_\")[0]\n",
    "m_param_json_file = f\"/g/data/yr31/zs2131/tasks/2023/RNA_expr_net/anal_mouse/training/{exp_short}/{exp}.param_config.json\"\n",
    "os.environ['PARAM_JSON_FILE'] = m_param_json_file\n",
    "from utils.params import params\n",
    "from utils.utils import get_device, get_model, get_config\n",
    "params = params()\n",
    "config = get_config()"
   ]
  },
  {
   "cell_type": "code",
   "execution_count": 4,
   "id": "6db88410-0188-465a-afc7-4c3dd164d813",
   "metadata": {},
   "outputs": [],
   "source": [
    "from data_m.get_mixed_dataset import get_mixed_dataset"
   ]
  },
  {
   "cell_type": "code",
   "execution_count": 6,
   "id": "ca71fd4c-b380-4b11-8e0e-4afb84bdfcca",
   "metadata": {},
   "outputs": [
    {
     "name": "stdout",
     "output_type": "stream",
     "text": [
      "Run in training mode!\n",
      "param_json_file is /g/data/yr31/zs2131/tasks/2023/RNA_expr_net/anal_mouse/training/exp6/exp6_hm_GPT_coding.param_config.json\n",
      "Parameter of params.SPECIFIED_PRETRAIN_MODEL_CHECKPOINT_PATH not found in the input json file, use default value of None!\n",
      "/g/data/yr31/zs2131/tasks/2023/RNA_expr_net/DeepGeneNet/results/models/pretrain/exp9/model.rank0.\n",
      "checkpoint file /g/data/yr31/zs2131/tasks/2023/RNA_expr_net/DeepGeneNet/results/models/pretrain/exp9/model.rank0.epoch1.pth found.\n",
      "/g/data/yr31/zs2131/tasks/2023/RNA_expr_net/DeepGeneNet/results/models/pretrain/exp9/model.rank0.epoch1.pth\n"
     ]
    },
    {
     "name": "stderr",
     "output_type": "stream",
     "text": [
      "/home/561/zs2131/.local/lib/python3.11/site-packages/tqdm/auto.py:21: TqdmWarning: IProgress not found. Please update jupyter and ipywidgets. See https://ipywidgets.readthedocs.io/en/stable/user_install.html\n",
      "  from .autonotebook import tqdm as notebook_tqdm\n"
     ]
    },
    {
     "name": "stdout",
     "output_type": "stream",
     "text": [
      "Reading gene_to_idx_path /g/data/yr31/zs2131/tasks/2023/RNA_expr_net/DeepGeneNet/data/embedding/hm_coding_gene_to_idx.json!\n",
      "/g/data/yr31/zs2131/tasks/2023/RNA_expr_net/DeepGeneNet/\n",
      "Reading gene_to_idx_path /g/data/yr31/zs2131/tasks/2023/RNA_expr_net/DeepGeneNet/data/embedding/hm_coding_gene_to_idx.json!\n",
      "Reading gene_to_idx_path /g/data/yr31/zs2131/tasks/2023/RNA_expr_net/DeepGeneNet/data/embedding/hm_coding_gene_to_idx.json!\n",
      "loading /g/data/yr31/zs2131/tasks/2023/RNA_expr_net/DeepGeneNet//data/external/ARCHS/normalize_each_gene/human_gene_v2.2_with_zero_expr_genes_bin_tot2000_final_all_genes_chunk_0.npy\n",
      "input parameters for getting human dataset: \n",
      "('/g/data/yr31/zs2131/tasks/2023/RNA_expr_net/DeepGeneNet/data/external/ARCHS/human_gene_v2.2.h5', '/g/data/yr31/zs2131/tasks/2023/RNA_expr_net/DeepGeneNet//data/external/ARCHS/normalize_each_gene/human_gene_v2.2_with_zero_expr_genes.gene_stat_filt_on_z_dup.tsv', '/g/data/yr31/zs2131/tasks/2023/RNA_expr_net/DeepGeneNet//data/external/ARCHS/normalize_each_gene/human_gene_v2.2_with_zero_expr_genes', 0, 0.1, 0.1)\n",
      "['SPECIAL_EMB1', 'SPECIAL_EMB2', 'SPECIAL_EMB3', 'TSPAN6', 'TNMD', 'DPM1', 'SCYL3', 'C1orf112', 'FGR', 'CFH']\n",
      "os.environ now is Mouse.\n"
     ]
    }
   ],
   "source": [
    "tot = 0\n",
    "for chunk_idx in range(10):\n",
    "    ds = get_mixed_dataset(\n",
    "        chunk_idx=0,\n",
    "        mask_fraction=0.1,\n",
    "        dataset_to_get='human',\n",
    "        add_prefix_to_gene=True,\n",
    "    )\n",
    "    tot += len(ds)"
   ]
  },
  {
   "cell_type": "code",
   "execution_count": 7,
   "id": "e483bad8-261b-4201-8d4f-7a2c1a2f908e",
   "metadata": {},
   "outputs": [
    {
     "data": {
      "text/plain": [
       "41085"
      ]
     },
     "execution_count": 7,
     "metadata": {},
     "output_type": "execute_result"
    }
   ],
   "source": [
    "print(tot)"
   ]
  },
  {
   "cell_type": "code",
   "execution_count": null,
   "id": "cb2fa937-6b97-445b-8de9-f9ea099f9b38",
   "metadata": {},
   "outputs": [],
   "source": [
    "tot = 0\n",
    "for chunk_idx in range(10):\n",
    "    ds = get_mixed_dataset(\n",
    "        chunk_idx=0,\n",
    "        mask_fraction=0.1,\n",
    "        dataset_to_get='nonhuman',\n",
    "        add_prefix_to_gene=True,\n",
    "    )\n",
    "    tot += len(ds)"
   ]
  }
 ],
 "metadata": {
  "kernelspec": {
   "display_name": "Python 3 (ipykernel)",
   "language": "python",
   "name": "python3"
  },
  "language_info": {
   "codemirror_mode": {
    "name": "ipython",
    "version": 3
   },
   "file_extension": ".py",
   "mimetype": "text/x-python",
   "name": "python",
   "nbconvert_exporter": "python",
   "pygments_lexer": "ipython3",
   "version": "3.11.0"
  }
 },
 "nbformat": 4,
 "nbformat_minor": 5
}
